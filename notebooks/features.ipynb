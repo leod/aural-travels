{
 "cells": [
  {
   "cell_type": "code",
   "execution_count": 1,
   "id": "0d7c5b62",
   "metadata": {},
   "outputs": [],
   "source": [
    "import sys\n",
    "import logging\n",
    "import os\n",
    "import json\n",
    "import random\n",
    "from tqdm import tqdm\n",
    "import warnings\n",
    "\n",
    "import numpy as np\n",
    "\n",
    "import librosa\n",
    "from librosa.feature import mfcc\n",
    "import scdata\n",
    "\n",
    "import torch\n",
    "\n",
    "sys.path.append('..')\n",
    "logging.getLogger().setLevel(logging.INFO)\n",
    "warnings.filterwarnings('ignore')\n",
    "\n",
    "from aural_travels.data import soundcloud\n",
    "\n",
    "# Adjust this to your local copy of the SoundCloud dataset.\n",
    "# Should contain the `scdata.json` file and the `audio` directory.\n",
    "DATA_DIR = '/home/leo/src/scdata'\n",
    "AUDIO_DIR = os.path.join(DATA_DIR, 'audio')\n",
    "\n",
    "torch.manual_seed(42)\n",
    "random.seed(42)"
   ]
  },
  {
   "cell_type": "code",
   "execution_count": 6,
   "id": "09b4f3d3",
   "metadata": {},
   "outputs": [
    {
     "name": "stderr",
     "output_type": "stream",
     "text": [
      "\r",
      "  0%|          | 0/1000 [00:00<?, ?it/s]"
     ]
    },
    {
     "name": "stdout",
     "output_type": "stream",
     "text": [
      "42\n"
     ]
    },
    {
     "name": "stderr",
     "output_type": "stream",
     "text": [
      "100%|██████████| 1000/1000 [16:57<00:00,  1.02s/it]"
     ]
    },
    {
     "name": "stdout",
     "output_type": "stream",
     "text": [
      "torch.Size([42000, 20])\n",
      "MFCC_MEAN=tensor([-129.6565,   93.0169,    6.5002,   22.2244,    4.3236,   10.2308,\n",
      "          -0.5253,    6.3963,   -2.1541,    4.7143,   -2.3346,    3.7656,\n",
      "          -2.2059,    2.7291,   -2.3556,    2.6430,   -2.8859,    2.2499,\n",
      "          -2.0655,    2.2221])\n",
      "MFCC_STD=tensor([147.8568,  55.7701,  34.7229,  22.2324,  17.8979,  16.1369,  14.1328,\n",
      "         13.1724,  12.0060,  11.6405,  10.6034,  10.4883,   9.8023,   9.4330,\n",
      "          9.2720,   9.0574,   8.7890,   8.8789,   8.7943,   8.8655])\n"
     ]
    },
    {
     "name": "stderr",
     "output_type": "stream",
     "text": [
      "\n"
     ]
    }
   ],
   "source": [
    "dataset = soundcloud.CoverGenerationDataset(DATA_DIR, 'training', normalize_mfcc=False)\n",
    "print(dataset.num_samples())\n",
    "\n",
    "mfccs = np.zeros((len(dataset), dataset.num_features()))\n",
    "mfccs = []\n",
    "\n",
    "samples = random.sample(list(range(len(dataset))), k=1000)\n",
    "\n",
    "for idx in tqdm(samples):\n",
    "    mfcc = dataset[idx][0]\n",
    "    mfccs.append(mfcc)\n",
    "\n",
    "mfccs = torch.cat(mfccs)\n",
    "print(mfccs.size())\n",
    "    \n",
    "print(f'MFCC_MEAN={torch.mean(mfccs, dim=0)}')\n",
    "print(f'MFCC_STD={torch.std(mfccs, dim=0)}')"
   ]
  },
  {
   "cell_type": "code",
   "execution_count": null,
   "id": "2d26153a",
   "metadata": {},
   "outputs": [],
   "source": [
    "dataset[6]"
   ]
  },
  {
   "cell_type": "code",
   "execution_count": null,
   "id": "272ad067",
   "metadata": {},
   "outputs": [],
   "source": [
    "mfcc(np.array([0.0]*1024), n_fft=1024, center=False, hop_length=1024)"
   ]
  },
  {
   "cell_type": "code",
   "execution_count": null,
   "id": "7fef4b1b",
   "metadata": {},
   "outputs": [],
   "source": [
    "with open(os.path.join(DATA_DIR, 'scdata.json')) as f:\n",
    "    tracks = list(json.load(f).values())"
   ]
  },
  {
   "cell_type": "code",
   "execution_count": null,
   "id": "7e8b0532",
   "metadata": {},
   "outputs": [],
   "source": [
    "track_idx = 1\n",
    "print(tracks[track_idx]['genre'])\n",
    "print(tracks[track_idx]['duration'])\n",
    "\n",
    "soundcloud.load_image(DATA_DIR, tracks[track_idx]['id'])"
   ]
  },
  {
   "cell_type": "code",
   "execution_count": null,
   "id": "b9548dea",
   "metadata": {},
   "outputs": [],
   "source": [
    "x = librosa.load(scdata.get_audio_path(AUDIO_DIR, tracks[track_idx]['id']))"
   ]
  },
  {
   "cell_type": "code",
   "execution_count": null,
   "id": "0bcd3a0a",
   "metadata": {},
   "outputs": [],
   "source": [
    "x[0].shape"
   ]
  },
  {
   "cell_type": "code",
   "execution_count": null,
   "id": "12dda7ce",
   "metadata": {},
   "outputs": [],
   "source": [
    "x[1]"
   ]
  },
  {
   "cell_type": "code",
   "execution_count": null,
   "id": "14d7bcca",
   "metadata": {},
   "outputs": [],
   "source": [
    "x[0].shape[0] / x[1]"
   ]
  },
  {
   "cell_type": "code",
   "execution_count": null,
   "id": "c4630b3c",
   "metadata": {},
   "outputs": [],
   "source": [
    "m = mfcc(x[0], sr=x[1])"
   ]
  },
  {
   "cell_type": "code",
   "execution_count": null,
   "id": "5851f5f9",
   "metadata": {},
   "outputs": [],
   "source": [
    "m.shape"
   ]
  },
  {
   "cell_type": "code",
   "execution_count": null,
   "id": "2d6e3446",
   "metadata": {},
   "outputs": [],
   "source": [
    "np.mean(m, axis=1)"
   ]
  },
  {
   "cell_type": "code",
   "execution_count": null,
   "id": "c5684774",
   "metadata": {},
   "outputs": [],
   "source": [
    "np.std(m, axis=1)"
   ]
  },
  {
   "cell_type": "code",
   "execution_count": null,
   "id": "be2418b4",
   "metadata": {},
   "outputs": [],
   "source": []
  }
 ],
 "metadata": {
  "kernelspec": {
   "display_name": "Python 3",
   "language": "python",
   "name": "python3"
  },
  "language_info": {
   "codemirror_mode": {
    "name": "ipython",
    "version": 3
   },
   "file_extension": ".py",
   "mimetype": "text/x-python",
   "name": "python",
   "nbconvert_exporter": "python",
   "pygments_lexer": "ipython3",
   "version": "3.9.2"
  }
 },
 "nbformat": 4,
 "nbformat_minor": 5
}
