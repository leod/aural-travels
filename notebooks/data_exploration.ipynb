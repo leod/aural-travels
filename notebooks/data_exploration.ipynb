{
 "cells": [
  {
   "cell_type": "code",
   "execution_count": 1,
   "id": "0d7c5b62",
   "metadata": {},
   "outputs": [],
   "source": [
    "import sys\n",
    "sys.path.append('..')\n",
    "\n",
    "from aural_travels.data import fma"
   ]
  },
  {
   "cell_type": "markdown",
   "id": "eb9061ce",
   "metadata": {},
   "source": [
    "## 1 Load Data"
   ]
  },
  {
   "cell_type": "code",
   "execution_count": 2,
   "id": "99e5d69d",
   "metadata": {},
   "outputs": [],
   "source": [
    "# Adjust this to your local copy of the FMA dataset.\n",
    "# Should contain `fma_dataset` and `fma_metadata` directories.\n",
    "DATA_DIR = '/home/leo/data/fma'\n",
    "\n",
    "genres = fma.load_genres(DATA_DIR)\n",
    "tracks = fma.load_tracks(DATA_DIR)"
   ]
  },
  {
   "cell_type": "markdown",
   "id": "14d0c38d",
   "metadata": {},
   "source": [
    "## 2 Genres"
   ]
  },
  {
   "cell_type": "code",
   "execution_count": 3,
   "id": "493cc7ce",
   "metadata": {},
   "outputs": [
    {
     "data": {
      "text/html": [
       "<div>\n",
       "<style scoped>\n",
       "    .dataframe tbody tr th:only-of-type {\n",
       "        vertical-align: middle;\n",
       "    }\n",
       "\n",
       "    .dataframe tbody tr th {\n",
       "        vertical-align: top;\n",
       "    }\n",
       "\n",
       "    .dataframe thead th {\n",
       "        text-align: right;\n",
       "    }\n",
       "</style>\n",
       "<table border=\"1\" class=\"dataframe\">\n",
       "  <thead>\n",
       "    <tr style=\"text-align: right;\">\n",
       "      <th></th>\n",
       "      <th>#tracks</th>\n",
       "      <th>parent</th>\n",
       "      <th>title</th>\n",
       "      <th>top_level</th>\n",
       "    </tr>\n",
       "    <tr>\n",
       "      <th>genre_id</th>\n",
       "      <th></th>\n",
       "      <th></th>\n",
       "      <th></th>\n",
       "      <th></th>\n",
       "    </tr>\n",
       "  </thead>\n",
       "  <tbody>\n",
       "    <tr>\n",
       "      <th>1</th>\n",
       "      <td>8693</td>\n",
       "      <td>38</td>\n",
       "      <td>Avant-Garde</td>\n",
       "      <td>38</td>\n",
       "    </tr>\n",
       "    <tr>\n",
       "      <th>2</th>\n",
       "      <td>5271</td>\n",
       "      <td>0</td>\n",
       "      <td>International</td>\n",
       "      <td>2</td>\n",
       "    </tr>\n",
       "    <tr>\n",
       "      <th>3</th>\n",
       "      <td>1752</td>\n",
       "      <td>0</td>\n",
       "      <td>Blues</td>\n",
       "      <td>3</td>\n",
       "    </tr>\n",
       "    <tr>\n",
       "      <th>4</th>\n",
       "      <td>4126</td>\n",
       "      <td>0</td>\n",
       "      <td>Jazz</td>\n",
       "      <td>4</td>\n",
       "    </tr>\n",
       "    <tr>\n",
       "      <th>5</th>\n",
       "      <td>4106</td>\n",
       "      <td>0</td>\n",
       "      <td>Classical</td>\n",
       "      <td>5</td>\n",
       "    </tr>\n",
       "    <tr>\n",
       "      <th>...</th>\n",
       "      <td>...</td>\n",
       "      <td>...</td>\n",
       "      <td>...</td>\n",
       "      <td>...</td>\n",
       "    </tr>\n",
       "    <tr>\n",
       "      <th>1032</th>\n",
       "      <td>60</td>\n",
       "      <td>102</td>\n",
       "      <td>Turkish</td>\n",
       "      <td>2</td>\n",
       "    </tr>\n",
       "    <tr>\n",
       "      <th>1060</th>\n",
       "      <td>30</td>\n",
       "      <td>46</td>\n",
       "      <td>Tango</td>\n",
       "      <td>2</td>\n",
       "    </tr>\n",
       "    <tr>\n",
       "      <th>1156</th>\n",
       "      <td>26</td>\n",
       "      <td>130</td>\n",
       "      <td>Fado</td>\n",
       "      <td>2</td>\n",
       "    </tr>\n",
       "    <tr>\n",
       "      <th>1193</th>\n",
       "      <td>72</td>\n",
       "      <td>763</td>\n",
       "      <td>Christmas</td>\n",
       "      <td>38</td>\n",
       "    </tr>\n",
       "    <tr>\n",
       "      <th>1235</th>\n",
       "      <td>14938</td>\n",
       "      <td>0</td>\n",
       "      <td>Instrumental</td>\n",
       "      <td>1235</td>\n",
       "    </tr>\n",
       "  </tbody>\n",
       "</table>\n",
       "<p>163 rows × 4 columns</p>\n",
       "</div>"
      ],
      "text/plain": [
       "          #tracks  parent          title  top_level\n",
       "genre_id                                           \n",
       "1            8693      38    Avant-Garde         38\n",
       "2            5271       0  International          2\n",
       "3            1752       0          Blues          3\n",
       "4            4126       0           Jazz          4\n",
       "5            4106       0      Classical          5\n",
       "...           ...     ...            ...        ...\n",
       "1032           60     102        Turkish          2\n",
       "1060           30      46          Tango          2\n",
       "1156           26     130           Fado          2\n",
       "1193           72     763      Christmas         38\n",
       "1235        14938       0   Instrumental       1235\n",
       "\n",
       "[163 rows x 4 columns]"
      ]
     },
     "execution_count": 3,
     "metadata": {},
     "output_type": "execute_result"
    }
   ],
   "source": [
    "# All genres\n",
    "genres"
   ]
  },
  {
   "cell_type": "code",
   "execution_count": 4,
   "id": "7541725e",
   "metadata": {},
   "outputs": [
    {
     "data": {
      "text/html": [
       "<div>\n",
       "<style scoped>\n",
       "    .dataframe tbody tr th:only-of-type {\n",
       "        vertical-align: middle;\n",
       "    }\n",
       "\n",
       "    .dataframe tbody tr th {\n",
       "        vertical-align: top;\n",
       "    }\n",
       "\n",
       "    .dataframe thead th {\n",
       "        text-align: right;\n",
       "    }\n",
       "</style>\n",
       "<table border=\"1\" class=\"dataframe\">\n",
       "  <thead>\n",
       "    <tr style=\"text-align: right;\">\n",
       "      <th></th>\n",
       "      <th>#tracks</th>\n",
       "      <th>parent</th>\n",
       "      <th>title</th>\n",
       "      <th>top_level</th>\n",
       "    </tr>\n",
       "    <tr>\n",
       "      <th>genre_id</th>\n",
       "      <th></th>\n",
       "      <th></th>\n",
       "      <th></th>\n",
       "      <th></th>\n",
       "    </tr>\n",
       "  </thead>\n",
       "  <tbody>\n",
       "    <tr>\n",
       "      <th>2</th>\n",
       "      <td>5271</td>\n",
       "      <td>0</td>\n",
       "      <td>International</td>\n",
       "      <td>2</td>\n",
       "    </tr>\n",
       "    <tr>\n",
       "      <th>3</th>\n",
       "      <td>1752</td>\n",
       "      <td>0</td>\n",
       "      <td>Blues</td>\n",
       "      <td>3</td>\n",
       "    </tr>\n",
       "    <tr>\n",
       "      <th>4</th>\n",
       "      <td>4126</td>\n",
       "      <td>0</td>\n",
       "      <td>Jazz</td>\n",
       "      <td>4</td>\n",
       "    </tr>\n",
       "    <tr>\n",
       "      <th>5</th>\n",
       "      <td>4106</td>\n",
       "      <td>0</td>\n",
       "      <td>Classical</td>\n",
       "      <td>5</td>\n",
       "    </tr>\n",
       "    <tr>\n",
       "      <th>8</th>\n",
       "      <td>868</td>\n",
       "      <td>0</td>\n",
       "      <td>Old-Time / Historic</td>\n",
       "      <td>8</td>\n",
       "    </tr>\n",
       "    <tr>\n",
       "      <th>9</th>\n",
       "      <td>1987</td>\n",
       "      <td>0</td>\n",
       "      <td>Country</td>\n",
       "      <td>9</td>\n",
       "    </tr>\n",
       "    <tr>\n",
       "      <th>10</th>\n",
       "      <td>13845</td>\n",
       "      <td>0</td>\n",
       "      <td>Pop</td>\n",
       "      <td>10</td>\n",
       "    </tr>\n",
       "    <tr>\n",
       "      <th>12</th>\n",
       "      <td>32923</td>\n",
       "      <td>0</td>\n",
       "      <td>Rock</td>\n",
       "      <td>12</td>\n",
       "    </tr>\n",
       "    <tr>\n",
       "      <th>13</th>\n",
       "      <td>730</td>\n",
       "      <td>0</td>\n",
       "      <td>Easy Listening</td>\n",
       "      <td>13</td>\n",
       "    </tr>\n",
       "    <tr>\n",
       "      <th>14</th>\n",
       "      <td>1499</td>\n",
       "      <td>0</td>\n",
       "      <td>Soul-RnB</td>\n",
       "      <td>14</td>\n",
       "    </tr>\n",
       "    <tr>\n",
       "      <th>15</th>\n",
       "      <td>34413</td>\n",
       "      <td>0</td>\n",
       "      <td>Electronic</td>\n",
       "      <td>15</td>\n",
       "    </tr>\n",
       "    <tr>\n",
       "      <th>17</th>\n",
       "      <td>12706</td>\n",
       "      <td>0</td>\n",
       "      <td>Folk</td>\n",
       "      <td>17</td>\n",
       "    </tr>\n",
       "    <tr>\n",
       "      <th>20</th>\n",
       "      <td>1876</td>\n",
       "      <td>0</td>\n",
       "      <td>Spoken</td>\n",
       "      <td>20</td>\n",
       "    </tr>\n",
       "    <tr>\n",
       "      <th>21</th>\n",
       "      <td>8389</td>\n",
       "      <td>0</td>\n",
       "      <td>Hip-Hop</td>\n",
       "      <td>21</td>\n",
       "    </tr>\n",
       "    <tr>\n",
       "      <th>38</th>\n",
       "      <td>38154</td>\n",
       "      <td>0</td>\n",
       "      <td>Experimental</td>\n",
       "      <td>38</td>\n",
       "    </tr>\n",
       "    <tr>\n",
       "      <th>1235</th>\n",
       "      <td>14938</td>\n",
       "      <td>0</td>\n",
       "      <td>Instrumental</td>\n",
       "      <td>1235</td>\n",
       "    </tr>\n",
       "  </tbody>\n",
       "</table>\n",
       "</div>"
      ],
      "text/plain": [
       "          #tracks  parent                title  top_level\n",
       "genre_id                                                 \n",
       "2            5271       0        International          2\n",
       "3            1752       0                Blues          3\n",
       "4            4126       0                 Jazz          4\n",
       "5            4106       0            Classical          5\n",
       "8             868       0  Old-Time / Historic          8\n",
       "9            1987       0              Country          9\n",
       "10          13845       0                  Pop         10\n",
       "12          32923       0                 Rock         12\n",
       "13            730       0       Easy Listening         13\n",
       "14           1499       0             Soul-RnB         14\n",
       "15          34413       0           Electronic         15\n",
       "17          12706       0                 Folk         17\n",
       "20           1876       0               Spoken         20\n",
       "21           8389       0              Hip-Hop         21\n",
       "38          38154       0         Experimental         38\n",
       "1235        14938       0         Instrumental       1235"
      ]
     },
     "execution_count": 4,
     "metadata": {},
     "output_type": "execute_result"
    }
   ],
   "source": [
    "# Top-level genres\n",
    "genres[genres.parent == 0]"
   ]
  },
  {
   "cell_type": "markdown",
   "id": "4d32eb94",
   "metadata": {},
   "source": [
    "## 3 Tracks"
   ]
  },
  {
   "cell_type": "code",
   "execution_count": 5,
   "id": "49e74557",
   "metadata": {},
   "outputs": [
    {
     "data": {
      "text/plain": [
       "array([('album', 'comments'), ('album', 'date_created'),\n",
       "       ('album', 'date_released'), ('album', 'engineer'),\n",
       "       ('album', 'favorites'), ('album', 'id'), ('album', 'information'),\n",
       "       ('album', 'listens'), ('album', 'producer'), ('album', 'tags'),\n",
       "       ('album', 'title'), ('album', 'tracks'), ('album', 'type'),\n",
       "       ('artist', 'active_year_begin'), ('artist', 'active_year_end'),\n",
       "       ('artist', 'associated_labels'), ('artist', 'bio'),\n",
       "       ('artist', 'comments'), ('artist', 'date_created'),\n",
       "       ('artist', 'favorites'), ('artist', 'id'), ('artist', 'latitude'),\n",
       "       ('artist', 'location'), ('artist', 'longitude'),\n",
       "       ('artist', 'members'), ('artist', 'name'),\n",
       "       ('artist', 'related_projects'), ('artist', 'tags'),\n",
       "       ('artist', 'website'), ('artist', 'wikipedia_page'),\n",
       "       ('set', 'split'), ('set', 'subset'), ('track', 'bit_rate'),\n",
       "       ('track', 'comments'), ('track', 'composer'),\n",
       "       ('track', 'date_created'), ('track', 'date_recorded'),\n",
       "       ('track', 'duration'), ('track', 'favorites'),\n",
       "       ('track', 'genre_top'), ('track', 'genres'),\n",
       "       ('track', 'genres_all'), ('track', 'information'),\n",
       "       ('track', 'interest'), ('track', 'language_code'),\n",
       "       ('track', 'license'), ('track', 'listens'), ('track', 'lyricist'),\n",
       "       ('track', 'number'), ('track', 'publisher'), ('track', 'tags'),\n",
       "       ('track', 'title')], dtype=object)"
      ]
     },
     "execution_count": 5,
     "metadata": {},
     "output_type": "execute_result"
    }
   ],
   "source": [
    "# The track metadata contains four sets of columns:\n",
    "# track, album, artist, and set.\n",
    "tracks.columns.values"
   ]
  },
  {
   "cell_type": "code",
   "execution_count": 6,
   "id": "5a27ebe8",
   "metadata": {},
   "outputs": [
    {
     "data": {
      "text/html": [
       "<div>\n",
       "<style scoped>\n",
       "    .dataframe tbody tr th:only-of-type {\n",
       "        vertical-align: middle;\n",
       "    }\n",
       "\n",
       "    .dataframe tbody tr th {\n",
       "        vertical-align: top;\n",
       "    }\n",
       "\n",
       "    .dataframe thead th {\n",
       "        text-align: right;\n",
       "    }\n",
       "</style>\n",
       "<table border=\"1\" class=\"dataframe\">\n",
       "  <thead>\n",
       "    <tr style=\"text-align: right;\">\n",
       "      <th></th>\n",
       "      <th>comments</th>\n",
       "      <th>date_created</th>\n",
       "      <th>date_released</th>\n",
       "      <th>engineer</th>\n",
       "      <th>favorites</th>\n",
       "      <th>id</th>\n",
       "      <th>information</th>\n",
       "      <th>listens</th>\n",
       "      <th>producer</th>\n",
       "      <th>tags</th>\n",
       "      <th>title</th>\n",
       "      <th>tracks</th>\n",
       "      <th>type</th>\n",
       "    </tr>\n",
       "    <tr>\n",
       "      <th>track_id</th>\n",
       "      <th></th>\n",
       "      <th></th>\n",
       "      <th></th>\n",
       "      <th></th>\n",
       "      <th></th>\n",
       "      <th></th>\n",
       "      <th></th>\n",
       "      <th></th>\n",
       "      <th></th>\n",
       "      <th></th>\n",
       "      <th></th>\n",
       "      <th></th>\n",
       "      <th></th>\n",
       "    </tr>\n",
       "  </thead>\n",
       "  <tbody>\n",
       "    <tr>\n",
       "      <th>130718</th>\n",
       "      <td>0</td>\n",
       "      <td>2016-01-13 04:12:34</td>\n",
       "      <td>2010-01-01</td>\n",
       "      <td>NaN</td>\n",
       "      <td>0</td>\n",
       "      <td>19684</td>\n",
       "      <td>&lt;p&gt;I don't think that all this can be understo...</td>\n",
       "      <td>11622</td>\n",
       "      <td>NaN</td>\n",
       "      <td>[]</td>\n",
       "      <td>Structures Anthropologiques de l'Imaginaire de...</td>\n",
       "      <td>17</td>\n",
       "      <td>Album</td>\n",
       "    </tr>\n",
       "    <tr>\n",
       "      <th>96074</th>\n",
       "      <td>0</td>\n",
       "      <td>2013-12-11 17:38:04</td>\n",
       "      <td>2013-12-11</td>\n",
       "      <td>NaN</td>\n",
       "      <td>0</td>\n",
       "      <td>15627</td>\n",
       "      <td>&lt;p&gt;Kingstux released his first track through P...</td>\n",
       "      <td>8225</td>\n",
       "      <td>Kingstux</td>\n",
       "      <td>[experimental, techno, electronica]</td>\n",
       "      <td>The Illusion is Worth Fighting For</td>\n",
       "      <td>16</td>\n",
       "      <td>Album</td>\n",
       "    </tr>\n",
       "    <tr>\n",
       "      <th>89322</th>\n",
       "      <td>2</td>\n",
       "      <td>2013-08-20 11:11:37</td>\n",
       "      <td>2013-09-01</td>\n",
       "      <td>NaN</td>\n",
       "      <td>19</td>\n",
       "      <td>14915</td>\n",
       "      <td>&lt;p&gt;Centuries ago a pirate ship sank in the Pac...</td>\n",
       "      <td>350338</td>\n",
       "      <td>NaN</td>\n",
       "      <td>[]</td>\n",
       "      <td>The Pirate And The Dancer</td>\n",
       "      <td>10</td>\n",
       "      <td>Album</td>\n",
       "    </tr>\n",
       "  </tbody>\n",
       "</table>\n",
       "</div>"
      ],
      "text/plain": [
       "          comments        date_created date_released engineer  favorites  \\\n",
       "track_id                                                                   \n",
       "130718           0 2016-01-13 04:12:34    2010-01-01      NaN          0   \n",
       "96074            0 2013-12-11 17:38:04    2013-12-11      NaN          0   \n",
       "89322            2 2013-08-20 11:11:37    2013-09-01      NaN         19   \n",
       "\n",
       "             id                                        information  listens  \\\n",
       "track_id                                                                      \n",
       "130718    19684  <p>I don't think that all this can be understo...    11622   \n",
       "96074     15627  <p>Kingstux released his first track through P...     8225   \n",
       "89322     14915  <p>Centuries ago a pirate ship sank in the Pac...   350338   \n",
       "\n",
       "          producer                                 tags  \\\n",
       "track_id                                                  \n",
       "130718         NaN                                   []   \n",
       "96074     Kingstux  [experimental, techno, electronica]   \n",
       "89322          NaN                                   []   \n",
       "\n",
       "                                                      title  tracks   type  \n",
       "track_id                                                                    \n",
       "130718    Structures Anthropologiques de l'Imaginaire de...      17  Album  \n",
       "96074                    The Illusion is Worth Fighting For      16  Album  \n",
       "89322                             The Pirate And The Dancer      10  Album  "
      ]
     },
     "execution_count": 6,
     "metadata": {},
     "output_type": "execute_result"
    }
   ],
   "source": [
    "tracks['album'].sample(3)"
   ]
  },
  {
   "cell_type": "code",
   "execution_count": 7,
   "id": "0013d94a",
   "metadata": {},
   "outputs": [
    {
     "data": {
      "text/plain": [
       "14854"
      ]
     },
     "execution_count": 7,
     "metadata": {},
     "output_type": "execute_result"
    }
   ],
   "source": [
    "tracks['album', 'id'].nunique()"
   ]
  },
  {
   "cell_type": "markdown",
   "id": "a4bd1029",
   "metadata": {},
   "source": [
    "## 4 Genre Distributions\n",
    "\n",
    "The following code relies in the album-level metadata, which we have generated as described in the top-level README."
   ]
  },
  {
   "cell_type": "code",
   "execution_count": 8,
   "id": "0027983b",
   "metadata": {},
   "outputs": [],
   "source": [
    "albums = fma.load_albums(DATA_DIR)"
   ]
  },
  {
   "cell_type": "markdown",
   "id": "6cd09d3c",
   "metadata": {},
   "source": [
    "### Track-Level Genre Distribution"
   ]
  },
  {
   "cell_type": "code",
   "execution_count": 49,
   "id": "6a8c4b30",
   "metadata": {},
   "outputs": [
    {
     "data": {
      "text/plain": [
       "<AxesSubplot:>"
      ]
     },
     "execution_count": 49,
     "metadata": {},
     "output_type": "execute_result"
    },
    {
     "data": {
      "image/png": "[encoded data removed]",
      "text/plain": [
       "<Figure size 432x288 with 1 Axes>"
      ]
     },
     "metadata": {
      "needs_background": "light"
     },
     "output_type": "display_data"
    }
   ],
   "source": [
    "tracks_pred = tracks[~tracks['track', 'genre_top'].isnull()]\n",
    "tracks_pred[tracks_pred['set', 'subset'] != 'large']['track', 'genre_top'] \\\n",
    "    .value_counts(normalize=True) \\\n",
    "    .plot(kind='bar')"
   ]
  },
  {
   "cell_type": "markdown",
   "id": "bdbe33f1",
   "metadata": {},
   "source": [
    "### Album-Level Genre Distribution"
   ]
  },
  {
   "cell_type": "code",
   "execution_count": 41,
   "id": "5ee072d3",
   "metadata": {
    "scrolled": false
   },
   "outputs": [
    {
     "data": {
      "text/plain": [
       "<AxesSubplot:>"
      ]
     },
     "execution_count": 41,
     "metadata": {},
     "output_type": "execute_result"
    },
    {
     "data": {
      "image/png": "[encoded data removed]",
      "text/plain": [
       "<Figure size 432x288 with 1 Axes>"
      ]
     },
     "metadata": {
      "needs_background": "light"
     },
     "output_type": "display_data"
    }
   ],
   "source": [
    "albums_pred = albums[~albums['genre_top'].isnull()]\n",
    "albums_pred[albums_pred['subset'] != 'large']['genre_top'] \\\n",
    "    .value_counts(normalize=True) \\\n",
    "    .plot(kind='bar')"
   ]
  },
  {
   "cell_type": "markdown",
   "id": "96d0ef7b",
   "metadata": {},
   "source": [
    "### Data for Predicting Genre from Cover"
   ]
  },
  {
   "cell_type": "code",
   "execution_count": 39,
   "id": "e41a6338",
   "metadata": {},
   "outputs": [
    {
     "data": {
      "text/plain": [
       "<AxesSubplot:>"
      ]
     },
     "execution_count": 39,
     "metadata": {},
     "output_type": "execute_result"
    },
    {
     "data": {
      "image/png": "[encoded data removed]",
      "text/plain": [
       "<Figure size 432x288 with 1 Axes>"
      ]
     },
     "metadata": {
      "needs_background": "light"
     },
     "output_type": "display_data"
    }
   ],
   "source": [
    "albums_pred = albums[~albums['genre_top'].isnull() & (albums['has_cover'] == True)]\n",
    "albums_pred[albums_pred['subset'] != 'large']['genre_top'].value_counts(normalize=True).plot(kind='bar')"
   ]
  }
 ],
 "metadata": {
  "kernelspec": {
   "display_name": "Python 3",
   "language": "python",
   "name": "python3"
  },
  "language_info": {
   "codemirror_mode": {
    "name": "ipython",
    "version": 3
   },
   "file_extension": ".py",
   "mimetype": "text/x-python",
   "name": "python",
   "nbconvert_exporter": "python",
   "pygments_lexer": "ipython3",
   "version": "3.9.2"
  }
 },
 "nbformat": 4,
 "nbformat_minor": 5
}
