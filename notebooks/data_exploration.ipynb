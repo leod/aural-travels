{
 "cells": [
  {
   "cell_type": "code",
   "execution_count": 1,
   "id": "0d7c5b62",
   "metadata": {},
   "outputs": [],
   "source": [
    "import sys\n",
    "import logging\n",
    "sys.path.append('..')\n",
    "logging.getLogger().setLevel(logging.INFO)\n",
    "\n",
    "from aural_travels.data import fma"
   ]
  },
  {
   "cell_type": "markdown",
   "id": "eb9061ce",
   "metadata": {},
   "source": [
    "## 1 Load Data"
   ]
  },
  {
   "cell_type": "code",
   "execution_count": 2,
   "id": "99e5d69d",
   "metadata": {},
   "outputs": [],
   "source": [
    "# Adjust this to your local copy of the FMA dataset.\n",
    "# Should contain `fma_dataset` and `fma_metadata` directories.\n",
    "DATA_DIR = '/home/leo/data/fma'\n",
    "\n",
    "genres = fma.load_genres(DATA_DIR)\n",
    "tracks = fma.load_tracks(DATA_DIR)"
   ]
  },
  {
   "cell_type": "markdown",
   "id": "14d0c38d",
   "metadata": {},
   "source": [
    "## 2 Genres"
   ]
  },
  {
   "cell_type": "code",
   "execution_count": 3,
   "id": "493cc7ce",
   "metadata": {},
   "outputs": [
    {
     "data": {
      "text/html": [
       "<div>\n",
       "<style scoped>\n",
       "    .dataframe tbody tr th:only-of-type {\n",
       "        vertical-align: middle;\n",
       "    }\n",
       "\n",
       "    .dataframe tbody tr th {\n",
       "        vertical-align: top;\n",
       "    }\n",
       "\n",
       "    .dataframe thead th {\n",
       "        text-align: right;\n",
       "    }\n",
       "</style>\n",
       "<table border=\"1\" class=\"dataframe\">\n",
       "  <thead>\n",
       "    <tr style=\"text-align: right;\">\n",
       "      <th></th>\n",
       "      <th>#tracks</th>\n",
       "      <th>parent</th>\n",
       "      <th>title</th>\n",
       "      <th>top_level</th>\n",
       "    </tr>\n",
       "    <tr>\n",
       "      <th>genre_id</th>\n",
       "      <th></th>\n",
       "      <th></th>\n",
       "      <th></th>\n",
       "      <th></th>\n",
       "    </tr>\n",
       "  </thead>\n",
       "  <tbody>\n",
       "    <tr>\n",
       "      <th>1</th>\n",
       "      <td>8693</td>\n",
       "      <td>38</td>\n",
       "      <td>Avant-Garde</td>\n",
       "      <td>38</td>\n",
       "    </tr>\n",
       "    <tr>\n",
       "      <th>2</th>\n",
       "      <td>5271</td>\n",
       "      <td>0</td>\n",
       "      <td>International</td>\n",
       "      <td>2</td>\n",
       "    </tr>\n",
       "    <tr>\n",
       "      <th>3</th>\n",
       "      <td>1752</td>\n",
       "      <td>0</td>\n",
       "      <td>Blues</td>\n",
       "      <td>3</td>\n",
       "    </tr>\n",
       "    <tr>\n",
       "      <th>4</th>\n",
       "      <td>4126</td>\n",
       "      <td>0</td>\n",
       "      <td>Jazz</td>\n",
       "      <td>4</td>\n",
       "    </tr>\n",
       "    <tr>\n",
       "      <th>5</th>\n",
       "      <td>4106</td>\n",
       "      <td>0</td>\n",
       "      <td>Classical</td>\n",
       "      <td>5</td>\n",
       "    </tr>\n",
       "    <tr>\n",
       "      <th>...</th>\n",
       "      <td>...</td>\n",
       "      <td>...</td>\n",
       "      <td>...</td>\n",
       "      <td>...</td>\n",
       "    </tr>\n",
       "    <tr>\n",
       "      <th>1032</th>\n",
       "      <td>60</td>\n",
       "      <td>102</td>\n",
       "      <td>Turkish</td>\n",
       "      <td>2</td>\n",
       "    </tr>\n",
       "    <tr>\n",
       "      <th>1060</th>\n",
       "      <td>30</td>\n",
       "      <td>46</td>\n",
       "      <td>Tango</td>\n",
       "      <td>2</td>\n",
       "    </tr>\n",
       "    <tr>\n",
       "      <th>1156</th>\n",
       "      <td>26</td>\n",
       "      <td>130</td>\n",
       "      <td>Fado</td>\n",
       "      <td>2</td>\n",
       "    </tr>\n",
       "    <tr>\n",
       "      <th>1193</th>\n",
       "      <td>72</td>\n",
       "      <td>763</td>\n",
       "      <td>Christmas</td>\n",
       "      <td>38</td>\n",
       "    </tr>\n",
       "    <tr>\n",
       "      <th>1235</th>\n",
       "      <td>14938</td>\n",
       "      <td>0</td>\n",
       "      <td>Instrumental</td>\n",
       "      <td>1235</td>\n",
       "    </tr>\n",
       "  </tbody>\n",
       "</table>\n",
       "<p>163 rows × 4 columns</p>\n",
       "</div>"
      ],
      "text/plain": [
       "          #tracks  parent          title  top_level\n",
       "genre_id                                           \n",
       "1            8693      38    Avant-Garde         38\n",
       "2            5271       0  International          2\n",
       "3            1752       0          Blues          3\n",
       "4            4126       0           Jazz          4\n",
       "5            4106       0      Classical          5\n",
       "...           ...     ...            ...        ...\n",
       "1032           60     102        Turkish          2\n",
       "1060           30      46          Tango          2\n",
       "1156           26     130           Fado          2\n",
       "1193           72     763      Christmas         38\n",
       "1235        14938       0   Instrumental       1235\n",
       "\n",
       "[163 rows x 4 columns]"
      ]
     },
     "execution_count": 3,
     "metadata": {},
     "output_type": "execute_result"
    }
   ],
   "source": [
    "# All genres\n",
    "genres"
   ]
  },
  {
   "cell_type": "code",
   "execution_count": 4,
   "id": "7541725e",
   "metadata": {},
   "outputs": [
    {
     "data": {
      "text/html": [
       "<div>\n",
       "<style scoped>\n",
       "    .dataframe tbody tr th:only-of-type {\n",
       "        vertical-align: middle;\n",
       "    }\n",
       "\n",
       "    .dataframe tbody tr th {\n",
       "        vertical-align: top;\n",
       "    }\n",
       "\n",
       "    .dataframe thead th {\n",
       "        text-align: right;\n",
       "    }\n",
       "</style>\n",
       "<table border=\"1\" class=\"dataframe\">\n",
       "  <thead>\n",
       "    <tr style=\"text-align: right;\">\n",
       "      <th></th>\n",
       "      <th>#tracks</th>\n",
       "      <th>parent</th>\n",
       "      <th>title</th>\n",
       "      <th>top_level</th>\n",
       "    </tr>\n",
       "    <tr>\n",
       "      <th>genre_id</th>\n",
       "      <th></th>\n",
       "      <th></th>\n",
       "      <th></th>\n",
       "      <th></th>\n",
       "    </tr>\n",
       "  </thead>\n",
       "  <tbody>\n",
       "    <tr>\n",
       "      <th>2</th>\n",
       "      <td>5271</td>\n",
       "      <td>0</td>\n",
       "      <td>International</td>\n",
       "      <td>2</td>\n",
       "    </tr>\n",
       "    <tr>\n",
       "      <th>3</th>\n",
       "      <td>1752</td>\n",
       "      <td>0</td>\n",
       "      <td>Blues</td>\n",
       "      <td>3</td>\n",
       "    </tr>\n",
       "    <tr>\n",
       "      <th>4</th>\n",
       "      <td>4126</td>\n",
       "      <td>0</td>\n",
       "      <td>Jazz</td>\n",
       "      <td>4</td>\n",
       "    </tr>\n",
       "    <tr>\n",
       "      <th>5</th>\n",
       "      <td>4106</td>\n",
       "      <td>0</td>\n",
       "      <td>Classical</td>\n",
       "      <td>5</td>\n",
       "    </tr>\n",
       "    <tr>\n",
       "      <th>8</th>\n",
       "      <td>868</td>\n",
       "      <td>0</td>\n",
       "      <td>Old-Time / Historic</td>\n",
       "      <td>8</td>\n",
       "    </tr>\n",
       "    <tr>\n",
       "      <th>9</th>\n",
       "      <td>1987</td>\n",
       "      <td>0</td>\n",
       "      <td>Country</td>\n",
       "      <td>9</td>\n",
       "    </tr>\n",
       "    <tr>\n",
       "      <th>10</th>\n",
       "      <td>13845</td>\n",
       "      <td>0</td>\n",
       "      <td>Pop</td>\n",
       "      <td>10</td>\n",
       "    </tr>\n",
       "    <tr>\n",
       "      <th>12</th>\n",
       "      <td>32923</td>\n",
       "      <td>0</td>\n",
       "      <td>Rock</td>\n",
       "      <td>12</td>\n",
       "    </tr>\n",
       "    <tr>\n",
       "      <th>13</th>\n",
       "      <td>730</td>\n",
       "      <td>0</td>\n",
       "      <td>Easy Listening</td>\n",
       "      <td>13</td>\n",
       "    </tr>\n",
       "    <tr>\n",
       "      <th>14</th>\n",
       "      <td>1499</td>\n",
       "      <td>0</td>\n",
       "      <td>Soul-RnB</td>\n",
       "      <td>14</td>\n",
       "    </tr>\n",
       "    <tr>\n",
       "      <th>15</th>\n",
       "      <td>34413</td>\n",
       "      <td>0</td>\n",
       "      <td>Electronic</td>\n",
       "      <td>15</td>\n",
       "    </tr>\n",
       "    <tr>\n",
       "      <th>17</th>\n",
       "      <td>12706</td>\n",
       "      <td>0</td>\n",
       "      <td>Folk</td>\n",
       "      <td>17</td>\n",
       "    </tr>\n",
       "    <tr>\n",
       "      <th>20</th>\n",
       "      <td>1876</td>\n",
       "      <td>0</td>\n",
       "      <td>Spoken</td>\n",
       "      <td>20</td>\n",
       "    </tr>\n",
       "    <tr>\n",
       "      <th>21</th>\n",
       "      <td>8389</td>\n",
       "      <td>0</td>\n",
       "      <td>Hip-Hop</td>\n",
       "      <td>21</td>\n",
       "    </tr>\n",
       "    <tr>\n",
       "      <th>38</th>\n",
       "      <td>38154</td>\n",
       "      <td>0</td>\n",
       "      <td>Experimental</td>\n",
       "      <td>38</td>\n",
       "    </tr>\n",
       "    <tr>\n",
       "      <th>1235</th>\n",
       "      <td>14938</td>\n",
       "      <td>0</td>\n",
       "      <td>Instrumental</td>\n",
       "      <td>1235</td>\n",
       "    </tr>\n",
       "  </tbody>\n",
       "</table>\n",
       "</div>"
      ],
      "text/plain": [
       "          #tracks  parent                title  top_level\n",
       "genre_id                                                 \n",
       "2            5271       0        International          2\n",
       "3            1752       0                Blues          3\n",
       "4            4126       0                 Jazz          4\n",
       "5            4106       0            Classical          5\n",
       "8             868       0  Old-Time / Historic          8\n",
       "9            1987       0              Country          9\n",
       "10          13845       0                  Pop         10\n",
       "12          32923       0                 Rock         12\n",
       "13            730       0       Easy Listening         13\n",
       "14           1499       0             Soul-RnB         14\n",
       "15          34413       0           Electronic         15\n",
       "17          12706       0                 Folk         17\n",
       "20           1876       0               Spoken         20\n",
       "21           8389       0              Hip-Hop         21\n",
       "38          38154       0         Experimental         38\n",
       "1235        14938       0         Instrumental       1235"
      ]
     },
     "execution_count": 4,
     "metadata": {},
     "output_type": "execute_result"
    }
   ],
   "source": [
    "# Top-level genres\n",
    "genres[genres.parent == 0]"
   ]
  },
  {
   "cell_type": "markdown",
   "id": "4d32eb94",
   "metadata": {},
   "source": [
    "## 3 Tracks"
   ]
  },
  {
   "cell_type": "code",
   "execution_count": 5,
   "id": "49e74557",
   "metadata": {},
   "outputs": [
    {
     "data": {
      "text/plain": [
       "array([('album', 'comments'), ('album', 'date_created'),\n",
       "       ('album', 'date_released'), ('album', 'engineer'),\n",
       "       ('album', 'favorites'), ('album', 'id'), ('album', 'information'),\n",
       "       ('album', 'listens'), ('album', 'producer'), ('album', 'tags'),\n",
       "       ('album', 'title'), ('album', 'tracks'), ('album', 'type'),\n",
       "       ('artist', 'active_year_begin'), ('artist', 'active_year_end'),\n",
       "       ('artist', 'associated_labels'), ('artist', 'bio'),\n",
       "       ('artist', 'comments'), ('artist', 'date_created'),\n",
       "       ('artist', 'favorites'), ('artist', 'id'), ('artist', 'latitude'),\n",
       "       ('artist', 'location'), ('artist', 'longitude'),\n",
       "       ('artist', 'members'), ('artist', 'name'),\n",
       "       ('artist', 'related_projects'), ('artist', 'tags'),\n",
       "       ('artist', 'website'), ('artist', 'wikipedia_page'),\n",
       "       ('set', 'split'), ('set', 'subset'), ('track', 'bit_rate'),\n",
       "       ('track', 'comments'), ('track', 'composer'),\n",
       "       ('track', 'date_created'), ('track', 'date_recorded'),\n",
       "       ('track', 'duration'), ('track', 'favorites'),\n",
       "       ('track', 'genre_top'), ('track', 'genres'),\n",
       "       ('track', 'genres_all'), ('track', 'information'),\n",
       "       ('track', 'interest'), ('track', 'language_code'),\n",
       "       ('track', 'license'), ('track', 'listens'), ('track', 'lyricist'),\n",
       "       ('track', 'number'), ('track', 'publisher'), ('track', 'tags'),\n",
       "       ('track', 'title')], dtype=object)"
      ]
     },
     "execution_count": 5,
     "metadata": {},
     "output_type": "execute_result"
    }
   ],
   "source": [
    "# The track metadata contains four sets of columns:\n",
    "# track, album, artist, and set.\n",
    "tracks.columns.values"
   ]
  },
  {
   "cell_type": "code",
   "execution_count": 6,
   "id": "5a27ebe8",
   "metadata": {},
   "outputs": [
    {
     "data": {
      "text/html": [
       "<div>\n",
       "<style scoped>\n",
       "    .dataframe tbody tr th:only-of-type {\n",
       "        vertical-align: middle;\n",
       "    }\n",
       "\n",
       "    .dataframe tbody tr th {\n",
       "        vertical-align: top;\n",
       "    }\n",
       "\n",
       "    .dataframe thead th {\n",
       "        text-align: right;\n",
       "    }\n",
       "</style>\n",
       "<table border=\"1\" class=\"dataframe\">\n",
       "  <thead>\n",
       "    <tr style=\"text-align: right;\">\n",
       "      <th></th>\n",
       "      <th>comments</th>\n",
       "      <th>date_created</th>\n",
       "      <th>date_released</th>\n",
       "      <th>engineer</th>\n",
       "      <th>favorites</th>\n",
       "      <th>id</th>\n",
       "      <th>information</th>\n",
       "      <th>listens</th>\n",
       "      <th>producer</th>\n",
       "      <th>tags</th>\n",
       "      <th>title</th>\n",
       "      <th>tracks</th>\n",
       "      <th>type</th>\n",
       "    </tr>\n",
       "    <tr>\n",
       "      <th>track_id</th>\n",
       "      <th></th>\n",
       "      <th></th>\n",
       "      <th></th>\n",
       "      <th></th>\n",
       "      <th></th>\n",
       "      <th></th>\n",
       "      <th></th>\n",
       "      <th></th>\n",
       "      <th></th>\n",
       "      <th></th>\n",
       "      <th></th>\n",
       "      <th></th>\n",
       "      <th></th>\n",
       "    </tr>\n",
       "  </thead>\n",
       "  <tbody>\n",
       "    <tr>\n",
       "      <th>1237</th>\n",
       "      <td>1</td>\n",
       "      <td>2008-11-26 02:42:26</td>\n",
       "      <td>2009-01-14</td>\n",
       "      <td>NaN</td>\n",
       "      <td>1</td>\n",
       "      <td>326</td>\n",
       "      <td>&lt;p&gt;This first \"high fidelity\" mudboy recording...</td>\n",
       "      <td>7559</td>\n",
       "      <td>NaN</td>\n",
       "      <td>[]</td>\n",
       "      <td>This Is Folk Music</td>\n",
       "      <td>13</td>\n",
       "      <td>Album</td>\n",
       "    </tr>\n",
       "    <tr>\n",
       "      <th>115399</th>\n",
       "      <td>3</td>\n",
       "      <td>2015-01-26 13:04:57</td>\n",
       "      <td>NaT</td>\n",
       "      <td>NaN</td>\n",
       "      <td>8</td>\n",
       "      <td>17509</td>\n",
       "      <td>&lt;p class=\"p1\" style=\"margin: 0px; padding: 8px...</td>\n",
       "      <td>325595</td>\n",
       "      <td>NaN</td>\n",
       "      <td>[interiors c1964, existential, hardcore-punk, ...</td>\n",
       "      <td>microSong Entries</td>\n",
       "      <td>389</td>\n",
       "      <td>Album</td>\n",
       "    </tr>\n",
       "    <tr>\n",
       "      <th>32319</th>\n",
       "      <td>0</td>\n",
       "      <td>2010-07-04 14:09:15</td>\n",
       "      <td>NaT</td>\n",
       "      <td>NaN</td>\n",
       "      <td>1</td>\n",
       "      <td>6741</td>\n",
       "      <td>NaN</td>\n",
       "      <td>16981</td>\n",
       "      <td>NaN</td>\n",
       "      <td>[]</td>\n",
       "      <td>Although through my bewildered way</td>\n",
       "      <td>17</td>\n",
       "      <td>Album</td>\n",
       "    </tr>\n",
       "  </tbody>\n",
       "</table>\n",
       "</div>"
      ],
      "text/plain": [
       "          comments        date_created date_released engineer  favorites  \\\n",
       "track_id                                                                   \n",
       "1237             1 2008-11-26 02:42:26    2009-01-14      NaN          1   \n",
       "115399           3 2015-01-26 13:04:57           NaT      NaN          8   \n",
       "32319            0 2010-07-04 14:09:15           NaT      NaN          1   \n",
       "\n",
       "             id                                        information  listens  \\\n",
       "track_id                                                                      \n",
       "1237        326  <p>This first \"high fidelity\" mudboy recording...     7559   \n",
       "115399    17509  <p class=\"p1\" style=\"margin: 0px; padding: 8px...   325595   \n",
       "32319      6741                                                NaN    16981   \n",
       "\n",
       "         producer                                               tags  \\\n",
       "track_id                                                               \n",
       "1237          NaN                                                 []   \n",
       "115399        NaN  [interiors c1964, existential, hardcore-punk, ...   \n",
       "32319         NaN                                                 []   \n",
       "\n",
       "                                       title  tracks   type  \n",
       "track_id                                                     \n",
       "1237                      This Is Folk Music      13  Album  \n",
       "115399                     microSong Entries     389  Album  \n",
       "32319     Although through my bewildered way      17  Album  "
      ]
     },
     "execution_count": 6,
     "metadata": {},
     "output_type": "execute_result"
    }
   ],
   "source": [
    "tracks['album'].sample(3)"
   ]
  },
  {
   "cell_type": "code",
   "execution_count": 7,
   "id": "0013d94a",
   "metadata": {},
   "outputs": [
    {
     "data": {
      "text/plain": [
       "14854"
      ]
     },
     "execution_count": 7,
     "metadata": {},
     "output_type": "execute_result"
    }
   ],
   "source": [
    "tracks['album', 'id'].nunique()"
   ]
  },
  {
   "cell_type": "markdown",
   "id": "de78d15f",
   "metadata": {},
   "source": [
    "## 4 Genre Distributions\n",
    "\n",
    "The following code relies in the album-level metadata, which we have generated as described in the top-level README."
   ]
  },
  {
   "cell_type": "code",
   "execution_count": 8,
   "id": "01521c40",
   "metadata": {},
   "outputs": [],
   "source": [
    "albums = fma.load_albums(DATA_DIR)"
   ]
  },
  {
   "cell_type": "markdown",
   "id": "b9ad8b36",
   "metadata": {},
   "source": [
    "### Track-Level Genre Distribution"
   ]
  },
  {
   "cell_type": "code",
   "execution_count": 9,
   "id": "8feeed0c",
   "metadata": {},
   "outputs": [
    {
     "data": {
      "text/plain": [
       "<AxesSubplot:>"
      ]
     },
     "execution_count": 9,
     "metadata": {},
     "output_type": "execute_result"
    },
    {
     "data": {
      "image/png": "[encoded data removed]",
      "text/plain": [
       "<Figure size 432x288 with 1 Axes>"
      ]
     },
     "metadata": {
      "needs_background": "light"
     },
     "output_type": "display_data"
    }
   ],
   "source": [
    "# Medium subset\n",
    "tracks_pred = tracks[~tracks['track', 'genre_top'].isnull()]\n",
    "tracks_pred[tracks_pred['set', 'subset'] <= 'medium']\n",
    "tracks_pred['track', 'genre_top'].value_counts(normalize=True).plot(kind='bar')"
   ]
  },
  {
   "cell_type": "markdown",
   "id": "bfc6b61c",
   "metadata": {},
   "source": [
    "### Album-Level Genre Distribution"
   ]
  },
  {
   "cell_type": "code",
   "execution_count": 10,
   "id": "b94ed223",
   "metadata": {
    "scrolled": false
   },
   "outputs": [
    {
     "data": {
      "text/plain": [
       "<AxesSubplot:>"
      ]
     },
     "execution_count": 10,
     "metadata": {},
     "output_type": "execute_result"
    },
    {
     "data": {
      "image/png": "[encoded data removed]",
      "text/plain": [
       "<Figure size 432x288 with 1 Axes>"
      ]
     },
     "metadata": {
      "needs_background": "light"
     },
     "output_type": "display_data"
    }
   ],
   "source": [
    "# Medium subset\n",
    "albums_pred = albums[~albums['genre_top'].isnull()]\n",
    "albums_pred = albums_pred[albums_pred['subset'] <= 'medium']\n",
    "albums_pred['genre_top'].value_counts(normalize=True).plot(kind='bar')"
   ]
  },
  {
   "cell_type": "markdown",
   "id": "7d7f288f",
   "metadata": {},
   "source": [
    "### Data for Predicting Genre from Cover"
   ]
  },
  {
   "cell_type": "code",
   "execution_count": 11,
   "id": "dab15925",
   "metadata": {},
   "outputs": [
    {
     "data": {
      "text/plain": [
       "<AxesSubplot:>"
      ]
     },
     "execution_count": 11,
     "metadata": {},
     "output_type": "execute_result"
    },
    {
     "data": {
      "image/png": "[encoded data removed]",
      "text/plain": [
       "<Figure size 432x288 with 1 Axes>"
      ]
     },
     "metadata": {
      "needs_background": "light"
     },
     "output_type": "display_data"
    }
   ],
   "source": [
    "albums_pred = albums[~albums['genre_top'].isnull() & (albums['has_cover'] == True)]\n",
    "albums_pred = albums_pred[albums_pred['subset'] <= 'medium']\n",
    "albums_pred['genre_top'].value_counts(normalize=True).plot(kind='bar')"
   ]
  },
  {
   "cell_type": "code",
   "execution_count": 12,
   "id": "bcea7b06",
   "metadata": {},
   "outputs": [
    {
     "name": "stderr",
     "output_type": "stream",
     "text": [
      "INFO:root:Loaded album data from data_dir=`/home/leo/data/fma\n",
      "INFO:root:Found 3300 albums (having cover and genre_top) in split=training, subset=medium\n",
      "INFO:root:Genre distribution: Rock                   0.316970\n",
      "Electronic             0.216364\n",
      "Experimental           0.107879\n",
      "Folk                   0.069091\n",
      "Hip-Hop                0.063939\n",
      "Pop                    0.045152\n",
      "Instrumental           0.043939\n",
      "International          0.041515\n",
      "Classical              0.027576\n",
      "Old-Time / Historic    0.024545\n",
      "Jazz                   0.020303\n",
      "Country                0.009697\n",
      "Spoken                 0.004545\n",
      "Blues                  0.004242\n",
      "Soul-RnB               0.003939\n",
      "Easy Listening         0.000303\n",
      "Name: genre_top, dtype: float64\n"
     ]
    }
   ],
   "source": [
    "data = fma.GenrePredictionDataset(DATA_DIR, subset='medium', split='training')"
   ]
  },
  {
   "cell_type": "code",
   "execution_count": 13,
   "id": "74745dba",
   "metadata": {},
   "outputs": [
    {
     "name": "stderr",
     "output_type": "stream",
     "text": [
      "INFO:root:Loaded album data from data_dir=`/home/leo/data/fma\n",
      "INFO:root:Found 429 albums (having cover and genre_top) in split=test, subset=medium\n",
      "INFO:root:Genre distribution: Rock                   0.310023\n",
      "Electronic             0.198135\n",
      "Experimental           0.104895\n",
      "Instrumental           0.090909\n",
      "Hip-Hop                0.065268\n",
      "Folk                   0.051282\n",
      "Pop                    0.051282\n",
      "International          0.032634\n",
      "Old-Time / Historic    0.025641\n",
      "Jazz                   0.020979\n",
      "Classical              0.018648\n",
      "Soul-RnB               0.013986\n",
      "Country                0.009324\n",
      "Blues                  0.002331\n",
      "Easy Listening         0.002331\n",
      "Spoken                 0.002331\n",
      "Name: genre_top, dtype: float64\n"
     ]
    }
   ],
   "source": [
    "data = fma.GenrePredictionDataset(DATA_DIR, subset='medium', split='test')"
   ]
  },
  {
   "cell_type": "code",
   "execution_count": 14,
   "id": "f76f70a0",
   "metadata": {},
   "outputs": [
    {
     "name": "stderr",
     "output_type": "stream",
     "text": [
      "INFO:root:Loaded album data from data_dir=`/home/leo/data/fma\n",
      "INFO:root:Found 406 albums (having cover and genre_top) in split=validation, subset=medium\n",
      "INFO:root:Genre distribution: Rock                   0.315271\n",
      "Electronic             0.233990\n",
      "Experimental           0.105911\n",
      "Folk                   0.068966\n",
      "Hip-Hop                0.066502\n",
      "Pop                    0.059113\n",
      "International          0.041872\n",
      "Instrumental           0.032020\n",
      "Classical              0.019704\n",
      "Old-Time / Historic    0.019704\n",
      "Jazz                   0.017241\n",
      "Soul-RnB               0.007389\n",
      "Country                0.004926\n",
      "Blues                  0.002463\n",
      "Easy Listening         0.002463\n",
      "Spoken                 0.002463\n",
      "Name: genre_top, dtype: float64\n"
     ]
    }
   ],
   "source": [
    "data = fma.GenrePredictionDataset(DATA_DIR, subset='medium', split='validation')"
   ]
  },
  {
   "cell_type": "code",
   "execution_count": 16,
   "id": "66d0c0df",
   "metadata": {},
   "outputs": [
    {
     "data": {
      "text/plain": [
       "title        14395\n",
       "genre_top     7149\n",
       "track_ids    14395\n",
       "subset       14395\n",
       "split        14395\n",
       "has_cover    14395\n",
       "dtype: int64"
      ]
     },
     "execution_count": 16,
     "metadata": {},
     "output_type": "execute_result"
    }
   ],
   "source": [
    "albums[~albums['has_cover'].isnull()].count()"
   ]
  },
  {
   "cell_type": "code",
   "execution_count": null,
   "id": "66f34de3",
   "metadata": {},
   "outputs": [],
   "source": []
  }
 ],
 "metadata": {
  "kernelspec": {
   "display_name": "Python 3",
   "language": "python",
   "name": "python3"
  },
  "language_info": {
   "codemirror_mode": {
    "name": "ipython",
    "version": 3
   },
   "file_extension": ".py",
   "mimetype": "text/x-python",
   "name": "python",
   "nbconvert_exporter": "python",
   "pygments_lexer": "ipython3",
   "version": "3.9.2"
  }
 },
 "nbformat": 4,
 "nbformat_minor": 5
}
