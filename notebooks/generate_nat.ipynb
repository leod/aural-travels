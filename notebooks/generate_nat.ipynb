{
 "cells": [
  {
   "cell_type": "code",
   "execution_count": null,
   "id": "0d7c5b62",
   "metadata": {},
   "outputs": [],
   "source": [
    "import sys\n",
    "import logging\n",
    "import os\n",
    "import math\n",
    "import json\n",
    "from tqdm import tqdm\n",
    "import warnings\n",
    "from IPython.display import display, Audio\n",
    "\n",
    "import numpy as np\n",
    "import librosa\n",
    "\n",
    "import torch\n",
    "\n",
    "import scdata\n",
    "\n",
    "sys.path.append('..')\n",
    "logging.getLogger().setLevel(logging.INFO)\n",
    "warnings.filterwarnings('ignore')\n",
    "\n",
    "from aural_travels.data import soundcloud\n",
    "from aural_travels.train import visualizer\n",
    "\n",
    "MODEL_DIR = '/home/leo/src/aural-travels/models/bottleneck_gen_pull0.25_max_dist1_enc27_dec1_layer_scale_dropout0.2'\n",
    "DATA_DIR = '/home/leo/src/scdata'"
   ]
  },
  {
   "cell_type": "code",
   "execution_count": null,
   "id": "be2418b4",
   "metadata": {},
   "outputs": [],
   "source": [
    "with open(os.path.join(MODEL_DIR, 'params.json')) as f:\n",
    "    params = json.load(f)\n",
    "    \n",
    "params"
   ]
  },
  {
   "cell_type": "code",
   "execution_count": null,
   "id": "6f70a5d9",
   "metadata": {
    "scrolled": false
   },
   "outputs": [],
   "source": [
    "#split = 'training'\n",
    "split = 'validation'\n",
    "\n",
    "dataset = visualizer.load_dataset(params,\n",
    "                                  split,\n",
    "                                  torch.load(f'../models/encoding/{params[\"image_repr\"]}/{split}.pt'))\n",
    "image_repr = visualizer.create_image_repr(params)\n",
    "model = visualizer.create_model(params, image_repr, dataset)\n",
    "model.eval().to('cuda')\n",
    "\n",
    "checkpoint = torch.load(os.path.join(MODEL_DIR, 'last_checkpoint.pt'))\n",
    "model.load_state_dict(checkpoint['model'])\n",
    "\n",
    "checkpoint['global_step']"
   ]
  },
  {
   "cell_type": "code",
   "execution_count": null,
   "id": "99e9a7e0",
   "metadata": {},
   "outputs": [],
   "source": [
    "def show(image_seq, save=None):\n",
    "    image = image_repr.tensor_to_image(image_repr.decode(image_seq)[0])\n",
    "    display(image)\n",
    "    if save:\n",
    "        image.save(save)\n",
    "    return image\n",
    "\n",
    "corrupt_image_seq = image_repr.rand_image_seq(1, device='cuda')\n",
    "show(corrupt_image_seq)\n",
    "\n",
    "corrupt_image_seq = image_repr.rand_image_seq(1, device='cuda', patch_size=4)\n",
    "show(corrupt_image_seq)\n",
    "\n",
    "corrupt_image_seq = image_repr.zeros_image_seq(1, device='cuda')\n",
    "show(corrupt_image_seq)\n",
    "\n",
    "print('')"
   ]
  },
  {
   "cell_type": "code",
   "execution_count": null,
   "id": "0c352101",
   "metadata": {
    "scrolled": false
   },
   "outputs": [],
   "source": [
    "top_k = 1\n",
    "temperature = 1.0\n",
    "\n",
    "indices = list(range(500, 600))\n",
    "\n",
    "for idx in indices:\n",
    "    track = dataset.tracks[idx]\n",
    "    print(f'{track[\"genre\"]}: {track[\"title\"]} ({track[\"id\"]})')\n",
    "    \n",
    "    audio1, ref_image_seq, audio2 = dataset[idx]\n",
    "    \n",
    "    audio1 = audio1[None, ...].to('cuda')\n",
    "    audio2 = audio2[None, ...].to('cuda')\n",
    "\n",
    "    ref_image_seq = ref_image_seq[None, ...].to('cuda')\n",
    "\n",
    "    print(idx, 'ref')\n",
    "    show(ref_image_seq)\n",
    "    \n",
    "    for i in range(1):\n",
    "        image_seq = model.generate_image_seq(model.calc_audio_emb(audio1))\n",
    "        show(image_seq)\n",
    "        \n",
    "        image_seq = model.generate_image_seq(model.calc_audio_emb(audio2))\n",
    "        show(image_seq)"
   ]
  },
  {
   "cell_type": "code",
   "execution_count": null,
   "id": "96acd16c",
   "metadata": {},
   "outputs": [],
   "source": [
    "from IPython.display import Audio\n",
    "\n",
    "track_idx = 597\n",
    "path = scdata.get_audio_path(os.path.join(DATA_DIR, 'audio'), dataset.tracks[track_idx]['id'])\n",
    "print(path)\n",
    "Audio(path)"
   ]
  },
  {
   "cell_type": "code",
   "execution_count": null,
   "id": "3ea0dba4",
   "metadata": {},
   "outputs": [],
   "source": [
    "mel = torch.tensor(dataset.load_features(track_idx), dtype=torch.float)\n",
    "mel = (mel - dataset.mfcc_mean) * dataset.mfcc_std_inv\n",
    "print(mel.shape)\n",
    "print(mel.shape[0] / 21)\n",
    "\n",
    "\n",
    "from scipy.ndimage import gaussian_filter1d\n",
    "from librosa.onset import onset_strength\n",
    "from librosa.beat import beat_track\n",
    "\n",
    "path = scdata.get_audio_path(os.path.join(DATA_DIR, 'audio'), dataset.tracks[track_idx]['id'])\n",
    "y, _ = librosa.load(path, sr=dataset.sample_rate, mono=True)\n",
    "onset_env = onset_strength(y, sr=dataset.sample_rate)\n",
    "onset_env_filtered3 = gaussian_filter1d(onset_env, 3)\n",
    "onset_env_filtered2 = gaussian_filter1d(onset_env, 2)\n",
    "bpm, beats = beat_track(y, sr=dataset.sample_rate, units='time')"
   ]
  },
  {
   "cell_type": "code",
   "execution_count": null,
   "id": "172a3535",
   "metadata": {},
   "outputs": [],
   "source": [
    "#import msaf\n",
    "#boundaries, labels = msaf.process(path)\n",
    "#boundaries"
   ]
  },
  {
   "cell_type": "code",
   "execution_count": null,
   "id": "2436e815",
   "metadata": {
    "scrolled": false
   },
   "outputs": [],
   "source": [
    "from IPython.display import clear_output\n",
    "import time\n",
    "\n",
    "from aural_travels import generate\n",
    "\n",
    "frames_dir = os.path.join(MODEL_DIR, 'gen', 'frames') \n",
    "os.makedirs(frames_dir, exist_ok=True)\n",
    "\n",
    "keyframes = generate.keyframes(model, mel, fps=23.0, device='cuda')\n",
    "frames = generate.interpolate(model, keyframes, interframes=1)\n",
    "\n",
    "start_time = time.time()\n",
    "\n",
    "for i, frame in enumerate(frames):\n",
    "    image = image_repr.tensor_to_image(frame)\n",
    "    if i % 1 == 0:\n",
    "        clear_output(wait=True)\n",
    "        print(i, i/23, (i/23)/(time.time()-start_time))\n",
    "        display(image)\n",
    "        image.save(os.path.join(frames_dir, f'{i}.png'))"
   ]
  },
  {
   "cell_type": "code",
   "execution_count": null,
   "id": "580a70dc",
   "metadata": {},
   "outputs": [],
   "source": [
    "model"
   ]
  },
  {
   "cell_type": "code",
   "execution_count": null,
   "id": "16c5e164",
   "metadata": {},
   "outputs": [],
   "source": []
  },
  {
   "cell_type": "code",
   "execution_count": null,
   "id": "4739eab1",
   "metadata": {},
   "outputs": [],
   "source": []
  },
  {
   "cell_type": "code",
   "execution_count": null,
   "id": "89986900",
   "metadata": {},
   "outputs": [],
   "source": []
  },
  {
   "cell_type": "code",
   "execution_count": null,
   "id": "7ca327e4",
   "metadata": {},
   "outputs": [],
   "source": []
  }
 ],
 "metadata": {
  "kernelspec": {
   "display_name": "Python 3",
   "language": "python",
   "name": "python3"
  },
  "language_info": {
   "codemirror_mode": {
    "name": "ipython",
    "version": 3
   },
   "file_extension": ".py",
   "mimetype": "text/x-python",
   "name": "python",
   "nbconvert_exporter": "python",
   "pygments_lexer": "ipython3",
   "version": "3.9.2"
  }
 },
 "nbformat": 4,
 "nbformat_minor": 5
}
