{
 "cells": [
  {
   "cell_type": "code",
   "execution_count": null,
   "id": "0d7c5b62",
   "metadata": {},
   "outputs": [],
   "source": [
    "import sys\n",
    "import logging\n",
    "import os\n",
    "import math\n",
    "import json\n",
    "from tqdm import tqdm\n",
    "import warnings\n",
    "from IPython.display import display, Audio\n",
    "\n",
    "import numpy as np\n",
    "import librosa\n",
    "\n",
    "import torch\n",
    "\n",
    "import scdata\n",
    "\n",
    "sys.path.append('..')\n",
    "logging.getLogger().setLevel(logging.INFO)\n",
    "warnings.filterwarnings('ignore')\n",
    "\n",
    "from aural_travels.data import soundcloud\n",
    "from aural_travels.train import visualizer\n",
    "\n",
    "MODEL_DIR = '/home/leo/src/aural-travels/models/nat_vqgan_layers16'\n",
    "DATA_DIR = '/home/leo/src/scdata'"
   ]
  },
  {
   "cell_type": "code",
   "execution_count": null,
   "id": "be2418b4",
   "metadata": {},
   "outputs": [],
   "source": [
    "with open(os.path.join(MODEL_DIR, 'params.json')) as f:\n",
    "    params = json.load(f)\n",
    "    \n",
    "params"
   ]
  },
  {
   "cell_type": "code",
   "execution_count": null,
   "id": "6f70a5d9",
   "metadata": {},
   "outputs": [],
   "source": [
    "#split = 'training'\n",
    "split = 'validation'\n",
    "\n",
    "dataset = visualizer.load_dataset(params,\n",
    "                                  split,\n",
    "                                  torch.load(f'../models/encoding/{params[\"image_repr\"]}/{split}.pt'))\n",
    "image_repr = visualizer.create_image_repr(params)\n",
    "model = visualizer.create_model(params, image_repr, dataset)\n",
    "model.eval().to('cuda')\n",
    "\n",
    "checkpoint = torch.load(os.path.join(MODEL_DIR, 'last_checkpoint.pt'))\n",
    "model.load_state_dict(checkpoint['model'])\n",
    "\n",
    "checkpoint['global_step']"
   ]
  },
  {
   "cell_type": "code",
   "execution_count": null,
   "id": "99e9a7e0",
   "metadata": {},
   "outputs": [],
   "source": [
    "def show(image_seq, save=None):\n",
    "    image = image_repr.tensor_to_image(image_repr.decode(image_seq)[0])\n",
    "    display(image)\n",
    "    if save:\n",
    "        image.save(save)\n",
    "    return image\n",
    "\n",
    "corrupt_image_seq = image_repr.rand_image_seq(1, device='cuda')\n",
    "show(corrupt_image_seq)\n",
    "\n",
    "corrupt_image_seq = image_repr.rand_image_seq(1, device='cuda', patch_size=4)\n",
    "show(corrupt_image_seq)\n",
    "\n",
    "corrupt_image_seq = image_repr.zeros_image_seq(1, device='cuda')\n",
    "show(corrupt_image_seq)\n",
    "\n",
    "print('')"
   ]
  },
  {
   "cell_type": "code",
   "execution_count": null,
   "id": "0c352101",
   "metadata": {
    "scrolled": false
   },
   "outputs": [],
   "source": [
    "top_k = 0\n",
    "temperature = 1\n",
    "\n",
    "indices = list(range(3))\n",
    "\n",
    "for idx in indices:\n",
    "    track = dataset.tracks[idx]\n",
    "    print(f'{track[\"genre\"]}: {track[\"title\"]} ({track[\"id\"]})')\n",
    "    \n",
    "    audio, ref_image_seq = dataset[idx]\n",
    "    \n",
    "    audio = audio[None, ...].to('cuda')\n",
    "    ref_image_seq = ref_image_seq[None, ...].to('cuda')\n",
    "\n",
    "    print('ref')\n",
    "    show(ref_image_seq)\n",
    "    \n",
    "#     print('from_zeros')\n",
    "#     image_seq = model.generate_image_seq(audio,\n",
    "#                                          top_k=top_k,\n",
    "#                                          temperature=temperature,\n",
    "#                                          corrupt_image_seq=image_repr.zeros_image_seq(1, device='cuda'))\n",
    "#    show(image_seq)\n",
    "    \n",
    "    for i in range(1):\n",
    "        print('from_rand')\n",
    "        image_seq = model.generate_image_seq(audio,\n",
    "                                             top_k=top_k,\n",
    "                                             temperature=temperature,\n",
    "                                             corrupt_image_seq=image_repr.rand_image_seq(1, patch_size=4, device='cuda'))\n",
    "        print((image_seq == ref_image_seq).sum())\n",
    "        show(image_seq)\n",
    "        \n",
    "    print('from_corrupt')\n",
    "    corrupt_image_seq = visualizer.corrupt_image_seq('uniform',\n",
    "                                                     image_repr.vocab_size(),\n",
    "                                                     ref_image_seq[0].clone())[None, ...]\n",
    "    image_seq = model.generate_image_seq(audio,\n",
    "                                         top_k=top_k,\n",
    "                                         temperature=temperature,\n",
    "                                         corrupt_image_seq=corrupt_image_seq)\n",
    "    print((corrupt_image_seq == ref_image_seq).sum())\n",
    "    print((image_seq == ref_image_seq).sum())\n",
    "    show(image_seq)\n",
    "    \n",
    "    print('corrupt')\n",
    "    show(corrupt_image_seq)"
   ]
  },
  {
   "cell_type": "code",
   "execution_count": null,
   "id": "96acd16c",
   "metadata": {},
   "outputs": [],
   "source": [
    "from IPython.display import Audio\n",
    "\n",
    "track_idx = 5\n",
    "path = scdata.get_audio_path(os.path.join(DATA_DIR, 'audio'), dataset.tracks[track_idx]['id'])\n",
    "print(path)\n",
    "Audio(path)"
   ]
  },
  {
   "cell_type": "code",
   "execution_count": null,
   "id": "3ea0dba4",
   "metadata": {},
   "outputs": [],
   "source": [
    "mel = torch.tensor(dataset.load_features(track_idx), dtype=torch.float)\n",
    "mel = (mel - dataset.mfcc_mean) * dataset.mfcc_std_inv\n",
    "print(mel.shape)\n",
    "print(mel.shape[0] / 21)"
   ]
  },
  {
   "cell_type": "code",
   "execution_count": null,
   "id": "b7ed533c",
   "metadata": {},
   "outputs": [],
   "source": [
    "import msaf\n",
    "\n",
    "boundaries, labels = msaf.process(path)"
   ]
  },
  {
   "cell_type": "code",
   "execution_count": null,
   "id": "c700c35e",
   "metadata": {},
   "outputs": [],
   "source": [
    "boundaries"
   ]
  },
  {
   "cell_type": "code",
   "execution_count": null,
   "id": "3a7f9248",
   "metadata": {},
   "outputs": [],
   "source": [
    "labels"
   ]
  },
  {
   "cell_type": "code",
   "execution_count": null,
   "id": "f4e1a160",
   "metadata": {},
   "outputs": [],
   "source": [
    "dataset.tracks[4]"
   ]
  },
  {
   "cell_type": "code",
   "execution_count": null,
   "id": "d07bab6b",
   "metadata": {},
   "outputs": [],
   "source": []
  },
  {
   "cell_type": "code",
   "execution_count": null,
   "id": "2436e815",
   "metadata": {
    "scrolled": false
   },
   "outputs": [],
   "source": [
    "from IPython.display import clear_output\n",
    "\n",
    "from librosa.onset import onset_strength\n",
    "from librosa.beat import beat_track\n",
    "\n",
    "from aural_travels import generate\n",
    "\n",
    "frames_dir = os.path.join(MODEL_DIR, 'gen', 'frames') \n",
    "os.makedirs(frames_dir, exist_ok=True)\n",
    "\n",
    "track_idx = 5\n",
    "last_image_seq = image_repr.rand_image_seq(1, device='cuda', patch_size=2)\n",
    "\n",
    "mel = torch.tensor(dataset.load_features(track_idx), dtype=torch.float)\n",
    "mel = (mel - dataset.mfcc_mean) * dataset.mfcc_std_inv\n",
    "\n",
    "path = scdata.get_audio_path(os.path.join(DATA_DIR, 'audio'), dataset.tracks[track_idx]['id'])\n",
    "y, _ = librosa.load(path, sr=dataset.sample_rate, mono=True)\n",
    "onset_env = onset_strength(y, sr=dataset.sample_rate)\n",
    "onset_env_filtered = gaussian_filter1d(onset_env, 4)\n",
    "\n",
    "bpm, beats = beat_track(y, sr=dataset.sample_rate, units='time')\n",
    "\n",
    "def noise(time, next_time, image_seq):\n",
    "    generate.onset_env_noise(image_repr=model.image_repr,\n",
    "                             onset_env=onset_env_filtered,\n",
    "                             time=time,\n",
    "                             next_time=next_time,\n",
    "                             image_seq=image_seq,\n",
    "                             power=2,\n",
    "                             scale=5)\n",
    "    generate.beat_cross_noise(image_repr=model.image_repr,\n",
    "                              beats=beats,\n",
    "                              time=time,\n",
    "                              next_time=next_time,\n",
    "                              image_seq=image_seq)\n",
    "    generate.segment_reset_noise(image_repr=model.image_repr,\n",
    "                                 boundaries=boundaries,\n",
    "                                 time=time,\n",
    "                                 next_time=next_time,\n",
    "                                 image_seq=image_seq)\n",
    "\n",
    "keyframes = generate.keyframes(model=model,\n",
    "                               mel=mel,\n",
    "                               last_image_seq=last_image_seq,\n",
    "                               fps=10.0,\n",
    "                               noise=noise,\n",
    "                               temperature=1.5,\n",
    "                               device='cuda')\n",
    "\n",
    "frames = generate.interpolate(image_repr=image_repr,\n",
    "                              keyframes=keyframes,\n",
    "                              interframes=6)\n",
    "\n",
    "for i, frame in enumerate(frames):\n",
    "    image = image_repr.tensor_to_image(frame)\n",
    "    if i % 100 == 0:\n",
    "        clear_output(wait=True)\n",
    "        display(image)\n",
    "    image.save(os.path.join(frames_dir, f'{i}.png'))"
   ]
  },
  {
   "cell_type": "code",
   "execution_count": 31,
   "id": "e7b1beb8",
   "metadata": {},
   "outputs": [
    {
     "name": "stdout",
     "output_type": "stream",
     "text": [
      "[0.         0.         0.         0.00267482 0.         0.\n",
      " 0.         0.03313705 0.10618851 0.16116807 0.21548022 0.06335737\n",
      " 0.07878926 0.10354544 0.21127142 0.26687267 0.11507119 0.1187228\n",
      " 0.25168884 0.45439178 0.22872822 0.19928469 0.19142392 0.3556699\n",
      " 0.49148345 0.32816008 0.12836924 0.2351946  0.48781055 0.32633144\n",
      " 0.32436603 0.20274445 0.22708917 0.44066554 0.38179997 0.32027978\n",
      " 0.26312643 0.3483441  0.43065614 0.6051022  0.68713343 0.615296\n",
      " 0.6285589  0.51973224 0.78583175 0.55780137 0.72771597 0.7555704\n",
      " 0.7818377  0.8933388  0.59603983 0.5645575  0.72385144 0.6703564\n",
      " 0.610744   0.7437511  0.67604685 0.6479063  0.6431945  0.9982098\n",
      " 0.8432612  0.72406244 0.5127436  0.77673113 0.84965885 0.55373335\n",
      " 0.5830445  0.67245877 0.6840786  0.98930955 0.805929   0.73983127\n",
      " 1.1802603  0.86637545 0.6148633  0.5864084  1.3029604  0.70359385\n",
      " 0.65996015 1.0712707  1.0255353  0.9900638  0.86460364 0.8304735\n",
      " 0.5431253  0.81604934 0.9322337  1.1551105  0.6884817  0.7561256\n",
      " 0.9968817  0.9115738  0.8096888  1.1086785  1.1214997  1.2219222\n",
      " 0.98617023 0.81056213 0.84929466 0.9007021 ]\n",
      "[0.00182049 0.00301743 0.00582322 0.01096215 0.01921141 0.03103446\n",
      " 0.04618383 0.06354638 0.08141038 0.09815419 0.11294015 0.12601595\n",
      " 0.13842052 0.15134603 0.16559954 0.18139537 0.19840337 0.2158937\n",
      " 0.2329754  0.24886978 0.2631427  0.27567366 0.28638244 0.2950512\n",
      " 0.3014559  0.30566716 0.30816457 0.30962226 0.3106491  0.31178418\n",
      " 0.31369492 0.31728363 0.32360804 0.33375227 0.3488668  0.3701253\n",
      " 0.39830303 0.43303522 0.47228733 0.5126915  0.5507232  0.5840569\n",
      " 0.61224216 0.6362783  0.65746164 0.67624074 0.6917765  0.7024482\n",
      " 0.70692164 0.7052302  0.69912094 0.6915454  0.6855845  0.6835131\n",
      " 0.686383   0.6940101  0.7051119  0.717452   0.72818625 0.7346087\n",
      " 0.7351737  0.7301412  0.72161204 0.71289974 0.7076602  0.70901173\n",
      " 0.71881837 0.73698497 0.76116395 0.7872736  0.81077826 0.82833743\n",
      " 0.83899593 0.84439063 0.84772927 0.852208   0.85950434 0.869134\n",
      " 0.87869173 0.8849285  0.88532704 0.8795041  0.86968094 0.85984135\n",
      " 0.8538168  0.85361546 0.8590535  0.86875606 0.8816521  0.8976173\n",
      " 0.9168564  0.93850267 0.9597616  0.9763155  0.9838596  0.9801115\n",
      " 0.9660534  0.9456613  0.92425156 0.9064298 ]\n"
     ]
    },
    {
     "data": {
      "image/png": "[encoded data removed]",
      "text/plain": [
       "<Figure size 432x288 with 1 Axes>"
      ]
     },
     "metadata": {
      "needs_background": "light"
     },
     "output_type": "display_data"
    }
   ],
   "source": [
    "from scipy.ndimage import gaussian_filter1d\n",
    "import matplotlib.pyplot as plt\n",
    "\n",
    "print(onset_env[:100])\n",
    "print(gaussian_filter1d(onset_env, 3)[:100])\n",
    "\n",
    "t1=1000\n",
    "t2=1100\n",
    "plt.plot(onset_env[t1:t2], 'k', label='original data')\n",
    "plt.plot(gaussian_filter1d(onset_env, 2)[t1:t2], '.', label='filtered, sigma=2')\n",
    "plt.plot(gaussian_filter1d(onset_env, 3)[t1:t2], '--', label='filtered, sigma=3')\n",
    "plt.plot(gaussian_filter1d(onset_env, 6)[t1:t2], ':', label='filtered, sigma=6')\n",
    "plt.legend()\n",
    "plt.grid()\n",
    "plt.show()"
   ]
  },
  {
   "cell_type": "code",
   "execution_count": null,
   "id": "d299a824",
   "metadata": {},
   "outputs": [],
   "source": [
    "def show_gif(fname):\n",
    "    import base64\n",
    "    from IPython import display\n",
    "    with open(fname, 'rb') as fd:\n",
    "        b64 = base64.b64encode(fd.read()).decode('ascii')\n",
    "    return display.HTML(f'<img src=\"data:image/gif;base64,{b64}\" />')\n",
    "\n",
    "show_gif(os.path.join(frames_dir, 'out.gif'))"
   ]
  },
  {
   "cell_type": "code",
   "execution_count": null,
   "id": "133d69c0",
   "metadata": {
    "scrolled": true
   },
   "outputs": [],
   "source": [
    "from IPython.display import Video\n",
    "Video(os.path.join(frames_dir, 'out.mp4'), embed=True)"
   ]
  },
  {
   "cell_type": "code",
   "execution_count": null,
   "id": "3692f4d2",
   "metadata": {},
   "outputs": [],
   "source": []
  }
 ],
 "metadata": {
  "kernelspec": {
   "display_name": "Python 3",
   "language": "python",
   "name": "python3"
  },
  "language_info": {
   "codemirror_mode": {
    "name": "ipython",
    "version": 3
   },
   "file_extension": ".py",
   "mimetype": "text/x-python",
   "name": "python",
   "nbconvert_exporter": "python",
   "pygments_lexer": "ipython3",
   "version": "3.9.2"
  }
 },
 "nbformat": 4,
 "nbformat_minor": 5
}
