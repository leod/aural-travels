{
 "cells": [
  {
   "cell_type": "code",
   "execution_count": null,
   "id": "0d7c5b62",
   "metadata": {},
   "outputs": [],
   "source": [
    "import sys\n",
    "import logging\n",
    "import os\n",
    "import math\n",
    "import json\n",
    "from tqdm import tqdm\n",
    "import warnings\n",
    "from IPython.display import display, Audio\n",
    "\n",
    "import numpy as np\n",
    "import librosa\n",
    "\n",
    "import torch\n",
    "\n",
    "import scdata\n",
    "\n",
    "sys.path.append('..')\n",
    "logging.getLogger().setLevel(logging.INFO)\n",
    "warnings.filterwarnings('ignore')\n",
    "\n",
    "from aural_travels.data import soundcloud\n",
    "from aural_travels.train import visualizer\n",
    "\n",
    "MODEL_DIR = '/home/leo/src/aural-travels/models/nat_vqgan_layers16'\n",
    "DATA_DIR = '/home/leo/src/scdata'"
   ]
  },
  {
   "cell_type": "code",
   "execution_count": null,
   "id": "be2418b4",
   "metadata": {},
   "outputs": [],
   "source": [
    "with open(os.path.join(MODEL_DIR, 'params.json')) as f:\n",
    "    params = json.load(f)\n",
    "    \n",
    "params"
   ]
  },
  {
   "cell_type": "code",
   "execution_count": null,
   "id": "6f70a5d9",
   "metadata": {},
   "outputs": [],
   "source": [
    "#split = 'training'\n",
    "split = 'validation'\n",
    "\n",
    "dataset = visualizer.load_dataset(params,\n",
    "                                  split,\n",
    "                                  torch.load(f'../models/encoding/{params[\"image_repr\"]}/{split}.pt'))\n",
    "image_repr = visualizer.create_image_repr(params)\n",
    "model = visualizer.create_model(params, image_repr, dataset)\n",
    "model.eval().to('cuda')\n",
    "\n",
    "checkpoint = torch.load(os.path.join(MODEL_DIR, 'last_checkpoint.pt'))\n",
    "model.load_state_dict(checkpoint['model'])\n",
    "\n",
    "checkpoint['global_step']"
   ]
  },
  {
   "cell_type": "code",
   "execution_count": null,
   "id": "99e9a7e0",
   "metadata": {},
   "outputs": [],
   "source": [
    "def show(image_seq, save=None):\n",
    "    image = image_repr.tensor_to_image(image_repr.decode(image_seq)[0])\n",
    "    display(image)\n",
    "    if save:\n",
    "        image.save(save)\n",
    "    return image\n",
    "\n",
    "corrupt_image_seq = image_repr.rand_image_seq(1, device='cuda')\n",
    "show(corrupt_image_seq)\n",
    "\n",
    "corrupt_image_seq = image_repr.rand_image_seq(1, device='cuda', patch_size=4)\n",
    "show(corrupt_image_seq)\n",
    "\n",
    "corrupt_image_seq = image_repr.zeros_image_seq(1, device='cuda')\n",
    "show(corrupt_image_seq)\n",
    "\n",
    "print('')"
   ]
  },
  {
   "cell_type": "code",
   "execution_count": null,
   "id": "0c352101",
   "metadata": {
    "scrolled": false
   },
   "outputs": [],
   "source": [
    "top_k = 0\n",
    "temperature = 1\n",
    "\n",
    "indices = list(range(3))\n",
    "\n",
    "for idx in indices:\n",
    "    track = dataset.tracks[idx]\n",
    "    print(f'{track[\"genre\"]}: {track[\"title\"]} ({track[\"id\"]})')\n",
    "    \n",
    "    audio, ref_image_seq = dataset[idx]\n",
    "    \n",
    "    audio = audio[None, ...].to('cuda')\n",
    "    ref_image_seq = ref_image_seq[None, ...].to('cuda')\n",
    "\n",
    "    print('ref')\n",
    "    show(ref_image_seq)\n",
    "    \n",
    "#     print('from_zeros')\n",
    "#     image_seq = model.generate_image_seq(audio,\n",
    "#                                          top_k=top_k,\n",
    "#                                          temperature=temperature,\n",
    "#                                          corrupt_image_seq=image_repr.zeros_image_seq(1, device='cuda'))\n",
    "#    show(image_seq)\n",
    "    \n",
    "    for i in range(1):\n",
    "        print('from_rand')\n",
    "        image_seq = model.generate_image_seq(audio,\n",
    "                                             top_k=top_k,\n",
    "                                             temperature=temperature,\n",
    "                                             corrupt_image_seq=image_repr.rand_image_seq(1, patch_size=4, device='cuda'))\n",
    "        print((image_seq == ref_image_seq).sum())\n",
    "        show(image_seq)\n",
    "        \n",
    "    print('from_corrupt')\n",
    "    corrupt_image_seq = visualizer.corrupt_image_seq('uniform',\n",
    "                                                     image_repr.vocab_size(),\n",
    "                                                     ref_image_seq[0].clone())[None, ...]\n",
    "    image_seq = model.generate_image_seq(audio,\n",
    "                                         top_k=top_k,\n",
    "                                         temperature=temperature,\n",
    "                                         corrupt_image_seq=corrupt_image_seq)\n",
    "    print((corrupt_image_seq == ref_image_seq).sum())\n",
    "    print((image_seq == ref_image_seq).sum())\n",
    "    show(image_seq)\n",
    "    \n",
    "    print('corrupt')\n",
    "    show(corrupt_image_seq)"
   ]
  },
  {
   "cell_type": "code",
   "execution_count": null,
   "id": "96acd16c",
   "metadata": {},
   "outputs": [],
   "source": [
    "from IPython.display import Audio\n",
    "\n",
    "track_idx = 4\n",
    "path = scdata.get_audio_path(os.path.join(DATA_DIR, 'audio'), dataset.tracks[track_idx]['id'])\n",
    "print(path)\n",
    "Audio(path)"
   ]
  },
  {
   "cell_type": "code",
   "execution_count": null,
   "id": "3ea0dba4",
   "metadata": {},
   "outputs": [],
   "source": [
    "mel = torch.tensor(dataset.load_features(track_idx), dtype=torch.float)\n",
    "mel = (mel - dataset.mfcc_mean) * dataset.mfcc_std_inv\n",
    "print(mel.shape)\n",
    "print(mel.shape[0] / 21)"
   ]
  },
  {
   "cell_type": "code",
   "execution_count": null,
   "id": "34664877",
   "metadata": {},
   "outputs": [],
   "source": [
    "import msaf\n",
    "\n",
    "boundaries, labels = msaf.process(path)"
   ]
  },
  {
   "cell_type": "code",
   "execution_count": null,
   "id": "36b592d9",
   "metadata": {},
   "outputs": [],
   "source": [
    "boundaries"
   ]
  },
  {
   "cell_type": "code",
   "execution_count": null,
   "id": "174086be",
   "metadata": {},
   "outputs": [],
   "source": [
    "labels"
   ]
  },
  {
   "cell_type": "code",
   "execution_count": null,
   "id": "2436e815",
   "metadata": {
    "scrolled": false
   },
   "outputs": [],
   "source": [
    "from IPython.display import clear_output\n",
    "\n",
    "from librosa.onset import onset_strength\n",
    "from librosa.beat import beat_track\n",
    "\n",
    "from aural_travels import generate\n",
    "\n",
    "frames_dir = os.path.join(MODEL_DIR, 'gen', 'frames') \n",
    "os.makedirs(frames_dir, exist_ok=True)\n",
    "\n",
    "track_idx = 4\n",
    "last_image_seq = image_repr.rand_image_seq(1, device='cuda', patch_size=4)\n",
    "\n",
    "mel = torch.tensor(dataset.load_features(track_idx), dtype=torch.float)\n",
    "mel = (mel - dataset.mfcc_mean) * dataset.mfcc_std_inv\n",
    "\n",
    "path = scdata.get_audio_path(os.path.join(DATA_DIR, 'audio'), dataset.tracks[track_idx]['id'])\n",
    "y, _ = librosa.load(path, sr=dataset.sample_rate, mono=True)\n",
    "onset_env = onset_strength(y, sr=dataset.sample_rate)\n",
    "\n",
    "bpm, beats = beat_track(y, sr=dataset.sample_rate, units='time')\n",
    "\n",
    "def noise(time, next_time, image_seq):\n",
    "    generate.onset_env_noise(image_repr=model.image_repr,\n",
    "                             onset_env=onset_env,\n",
    "                             time=time,\n",
    "                             next_time=next_time,\n",
    "                             image_seq=image_seq,\n",
    "                             power=1.5,\n",
    "                             scale=3.0)\n",
    "    generate.beat_cross_noise(image_repr=model.image_repr,\n",
    "                              beats=beats,\n",
    "                              time=time,\n",
    "                              next_time=next_time,\n",
    "                              image_seq=image_seq)\n",
    "\n",
    "keyframes = generate.keyframes(model=model,\n",
    "                               mel=mel,\n",
    "                               last_image_seq=last_image_seq,\n",
    "                               fps=10.0,\n",
    "                               noise=noise,\n",
    "                               temperature=1.5,\n",
    "                               device='cuda')\n",
    "\n",
    "frames = generate.interpolate(image_repr=image_repr,\n",
    "                              keyframes=keyframes,\n",
    "                              interframes=6)\n",
    "\n",
    "for i, frame in enumerate(frames):\n",
    "    image = image_repr.tensor_to_image(frame)\n",
    "    if i % 100 == 0:\n",
    "        clear_output(wait=True)\n",
    "        display(image)\n",
    "    image.save(os.path.join(frames_dir, f'{i}.png'))"
   ]
  },
  {
   "cell_type": "code",
   "execution_count": null,
   "id": "d299a824",
   "metadata": {},
   "outputs": [],
   "source": [
    "def show_gif(fname):\n",
    "    import base64\n",
    "    from IPython import display\n",
    "    with open(fname, 'rb') as fd:\n",
    "        b64 = base64.b64encode(fd.read()).decode('ascii')\n",
    "    return display.HTML(f'<img src=\"data:image/gif;base64,{b64}\" />')\n",
    "\n",
    "show_gif(os.path.join(frames_dir, 'out.gif'))"
   ]
  },
  {
   "cell_type": "code",
   "execution_count": null,
   "id": "133d69c0",
   "metadata": {
    "scrolled": true
   },
   "outputs": [],
   "source": [
    "from IPython.display import Video\n",
    "Video(os.path.join(frames_dir, 'out.mp4'), embed=True)"
   ]
  },
  {
   "cell_type": "code",
   "execution_count": null,
   "id": "df506c60",
   "metadata": {},
   "outputs": [],
   "source": []
  }
 ],
 "metadata": {
  "kernelspec": {
   "display_name": "Python 3",
   "language": "python",
   "name": "python3"
  },
  "language_info": {
   "codemirror_mode": {
    "name": "ipython",
    "version": 3
   },
   "file_extension": ".py",
   "mimetype": "text/x-python",
   "name": "python",
   "nbconvert_exporter": "python",
   "pygments_lexer": "ipython3",
   "version": "3.9.2"
  }
 },
 "nbformat": 4,
 "nbformat_minor": 5
}
