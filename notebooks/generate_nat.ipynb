{
 "cells": [
  {
   "cell_type": "code",
   "execution_count": null,
   "id": "0d7c5b62",
   "metadata": {},
   "outputs": [],
   "source": [
    "import sys\n",
    "import logging\n",
    "import os\n",
    "import math\n",
    "import json\n",
    "from tqdm import tqdm\n",
    "import warnings\n",
    "from IPython.display import display, Audio\n",
    "\n",
    "import numpy as np\n",
    "import librosa\n",
    "\n",
    "import torch\n",
    "\n",
    "import scdata\n",
    "\n",
    "sys.path.append('..')\n",
    "logging.getLogger().setLevel(logging.INFO)\n",
    "warnings.filterwarnings('ignore')\n",
    "\n",
    "from aural_travels.data import soundcloud\n",
    "from aural_travels.train import visualizer\n",
    "\n",
    "MODEL_DIR = '/home/leo/src/aural-travels/models/nat_vqgan_layers16'\n",
    "DATA_DIR = '/home/leo/src/scdata'"
   ]
  },
  {
   "cell_type": "code",
   "execution_count": null,
   "id": "be2418b4",
   "metadata": {},
   "outputs": [],
   "source": [
    "with open(os.path.join(MODEL_DIR, 'params.json')) as f:\n",
    "    params = json.load(f)\n",
    "    \n",
    "params"
   ]
  },
  {
   "cell_type": "code",
   "execution_count": null,
   "id": "6f70a5d9",
   "metadata": {},
   "outputs": [],
   "source": [
    "#split = 'training'\n",
    "split = 'validation'\n",
    "\n",
    "dataset = visualizer.load_dataset(params,\n",
    "                                  split,\n",
    "                                  torch.load(f'../models/encoding/{params[\"image_repr\"]}/{split}.pt'))\n",
    "image_repr = visualizer.create_image_repr(params)\n",
    "model = visualizer.create_model(params, image_repr, dataset)\n",
    "model.eval().to('cuda')\n",
    "\n",
    "checkpoint = torch.load(os.path.join(MODEL_DIR, 'last_checkpoint.pt'))\n",
    "model.load_state_dict(checkpoint['model'])\n",
    "\n",
    "checkpoint['global_step']"
   ]
  },
  {
   "cell_type": "code",
   "execution_count": null,
   "id": "99e9a7e0",
   "metadata": {},
   "outputs": [],
   "source": [
    "def show(image_seq, save=None):\n",
    "    image = image_repr.tensor_to_image(image_repr.decode(image_seq)[0])\n",
    "    display(image)\n",
    "    if save:\n",
    "        image.save(save)\n",
    "    return image\n",
    "\n",
    "corrupt_image_seq = image_repr.rand_image_seq(1, device='cuda')\n",
    "show(corrupt_image_seq)\n",
    "\n",
    "corrupt_image_seq = image_repr.rand_image_seq(1, device='cuda', patch_size=4)\n",
    "show(corrupt_image_seq)\n",
    "\n",
    "corrupt_image_seq = image_repr.zeros_image_seq(1, device='cuda')\n",
    "show(corrupt_image_seq)\n",
    "1\n",
    "print('')"
   ]
  },
  {
   "cell_type": "code",
   "execution_count": null,
   "id": "0c352101",
   "metadata": {
    "scrolled": false
   },
   "outputs": [],
   "source": [
    "top_k = 0\n",
    "temperature = 1\n",
    "\n",
    "indices = list(range(3))\n",
    "\n",
    "for idx in indices:\n",
    "    track = dataset.tracks[idx]\n",
    "    print(f'{track[\"genre\"]}: {track[\"title\"]} ({track[\"id\"]})')\n",
    "    \n",
    "    audio, ref_image_seq = dataset[idx]\n",
    "    \n",
    "    audio = audio[None, ...].to('cuda')\n",
    "    ref_image_seq = ref_image_seq[None, ...].to('cuda')\n",
    "\n",
    "    print('ref')\n",
    "    show(ref_image_seq)\n",
    "    \n",
    "#     print('from_zeros')\n",
    "#     image_seq = model.generate_image_seq(audio,\n",
    "#                                          top_k=top_k,\n",
    "#                                          temperature=temperature,\n",
    "#                                          corrupt_image_seq=image_repr.zeros_image_seq(1, device='cuda'))\n",
    "#    show(image_seq)\n",
    "    \n",
    "    for i in range(1):\n",
    "        print('from_rand')\n",
    "        image_seq = model.generate_image_seq(audio,\n",
    "                                             top_k=top_k,\n",
    "                                             temperature=temperature,\n",
    "                                             corrupt_image_seq=image_repr.rand_image_seq(1, patch_size=4, device='cuda'))\n",
    "        print((image_seq == ref_image_seq).sum())\n",
    "        show(image_seq)\n",
    "        \n",
    "    print('from_corrupt')\n",
    "    corrupt_image_seq = visualizer.corrupt_image_seq('uniform',\n",
    "                                                     image_repr.vocab_size(),\n",
    "                                                     ref_image_seq[0].clone())[None, ...]\n",
    "    image_seq = model.generate_image_seq(audio,\n",
    "                                         top_k=top_k,\n",
    "                                         temperature=temperature,\n",
    "                                         corrupt_image_seq=corrupt_image_seq)\n",
    "    print((corrupt_image_seq == ref_image_seq).sum())\n",
    "    print((image_seq == ref_image_seq).sum())\n",
    "    show(image_seq)\n",
    "    \n",
    "    print('corrupt')\n",
    "    show(corrupt_image_seq)"
   ]
  },
  {
   "cell_type": "code",
   "execution_count": null,
   "id": "96acd16c",
   "metadata": {},
   "outputs": [],
   "source": [
    "from IPython.display import Audio\n",
    "\n",
    "track_idx = 5\n",
    "path = scdata.get_audio_path(os.path.join(DATA_DIR, 'audio'), dataset.tracks[track_idx]['id'])\n",
    "print(path)\n",
    "Audio(path)"
   ]
  },
  {
   "cell_type": "code",
   "execution_count": null,
   "id": "3ea0dba4",
   "metadata": {},
   "outputs": [],
   "source": [
    "mel = torch.tensor(dataset.load_features(track_idx), dtype=torch.float)\n",
    "mel = (mel - dataset.mfcc_mean) * dataset.mfcc_std_inv\n",
    "print(mel.shape)\n",
    "print(mel.shape[0] / 21)"
   ]
  },
  {
   "cell_type": "code",
   "execution_count": null,
   "id": "172a3535",
   "metadata": {},
   "outputs": [],
   "source": [
    "import msaf\n",
    "\n",
    "boundaries, labels = msaf.process(path)"
   ]
  },
  {
   "cell_type": "code",
   "execution_count": null,
   "id": "f5eb85c3",
   "metadata": {},
   "outputs": [],
   "source": [
    "boundaries"
   ]
  },
  {
   "cell_type": "code",
   "execution_count": null,
   "id": "54c83f3b",
   "metadata": {},
   "outputs": [],
   "source": [
    "torch.norm(model.image_repr.model.quantize.embedding.weight, dim=-1)[:100]"
   ]
  },
  {
   "cell_type": "code",
   "execution_count": null,
   "id": "344d0166",
   "metadata": {
    "scrolled": false
   },
   "outputs": [],
   "source": [
    "import random\n",
    "import numpy as np\n",
    "\n",
    "np.set_printoptions(precision=4)\n",
    "\n",
    "for _ in range(50):\n",
    "    i = random.randint(0, 1023)\n",
    "    j = random.randint(0, 1023)\n",
    "    a = model.image_repr.model.quantize.embedding.weight[i]\n",
    "    b = model.image_repr.model.quantize.embedding.weight[j]\n",
    "    #print(torch.norm(a), torch.norm(b))\n",
    "    \n",
    "    norms = []\n",
    "    indices = []\n",
    "    for t in [0.0, 0.1, 0.2, 0.3, 0.4, 0.5, 0.6, 0.7, 0.8, 0.9, 1.0]:\n",
    "        x = (1.0 - t) * a + t * b\n",
    "        indices.append(torch.topk(-torch.norm(model.image_repr.model.quantize.embedding.weight - x, dim=1), k=1)[1].item())\n",
    "        norms.append(torch.norm(x).item())\n",
    "\n",
    "    print(indices)\n",
    "    print(np.array(norms))"
   ]
  },
  {
   "cell_type": "code",
   "execution_count": null,
   "id": "e71861d5",
   "metadata": {
    "scrolled": false
   },
   "outputs": [],
   "source": [
    "a = image_repr.rand_image_seq(1, device='cuda')\n",
    "show(a)\n",
    "\n",
    "b = image_repr.rand_image_seq(1, device='cuda')\n",
    "show(b)\n",
    "\n",
    "W = model.image_repr.model.quantize.embedding.weight\n",
    "u = W[a]\n",
    "v = W[b]\n",
    "\n",
    "\n",
    "alpha = 0.5\n",
    "\n",
    "for alpha in np.linspace(0, 1, 10):\n",
    "    x = (1.0 - alpha) * u + alpha * v\n",
    "\n",
    "    W2 = torch.tile(W[None, :, :], (256, 1, 1))\n",
    "    x2 = torch.tile(x.view(-1, 256)[:, None, :], (1024, 1))\n",
    "\n",
    "    d = (W2 - x2).pow(2).sum(dim=-1)\n",
    "    _, idx = torch.topk(-d, k=1, dim=1)\n",
    "    idx = idx.view(x.shape[0], 256)\n",
    "\n",
    "    #print(x.shape, W.shape, W2.shape, x2.shape, d.shape, idx.shape)\n",
    "    show(idx)"
   ]
  },
  {
   "cell_type": "code",
   "execution_count": null,
   "id": "90379e32",
   "metadata": {
    "scrolled": false
   },
   "outputs": [],
   "source": [
    "# frames = generate.interpolate(image_repr=model.image_repr,\n",
    "#                               keyframes=iter([a, b]),\n",
    "#                               interframes=10)\n",
    "# for frame in frames:\n",
    "#     display(model.image_repr.tensor_to_image(frame))"
   ]
  },
  {
   "cell_type": "code",
   "execution_count": null,
   "id": "2436e815",
   "metadata": {
    "scrolled": false
   },
   "outputs": [],
   "source": [
    "from IPython.display import clear_output\n",
    "\n",
    "from scipy.ndimage import gaussian_filter1d\n",
    "\n",
    "from librosa.onset import onset_strength\n",
    "from librosa.beat import beat_track\n",
    "\n",
    "from aural_travels import generate\n",
    "\n",
    "frames_dir = os.path.join(MODEL_DIR, 'gen', 'frames') \n",
    "os.makedirs(frames_dir, exist_ok=True)\n",
    "\n",
    "track_idx = 5\n",
    "last_image_seq = image_repr.rand_image_seq(1, device='cuda', patch_size=2)\n",
    "\n",
    "mel = torch.tensor(dataset.load_features(track_idx), dtype=torch.float)\n",
    "mel = (mel - dataset.mfcc_mean) * dataset.mfcc_std_inv\n",
    "\n",
    "path = scdata.get_audio_path(os.path.join(DATA_DIR, 'audio'), dataset.tracks[track_idx]['id'])\n",
    "y, _ = librosa.load(path, sr=dataset.sample_rate, mono=True)\n",
    "onset_env = onset_strength(y, sr=dataset.sample_rate)\n",
    "onset_env_filtered3 = gaussian_filter1d(onset_env, 3)\n",
    "onset_env_filtered2 = gaussian_filter1d(onset_env, 2)\n",
    "\n",
    "bpm, beats = beat_track(y, sr=dataset.sample_rate, units='time')\n",
    "\n",
    "circle_state = None\n",
    "\n",
    "def noise(time, next_time, image_seq):\n",
    "    global circle_state\n",
    "    \n",
    "#     generate.beat_spiral(image_repr=model.image_repr,\n",
    "#                          beats=beats,\n",
    "#                          time=time,\n",
    "#                          next_time=next_time,\n",
    "#                          image_seq=image_seq)\n",
    "    generate.onset_env_bump_noise(image_repr=model.image_repr,\n",
    "                                  onset_env=onset_env_filtered3,\n",
    "                                  time=time,\n",
    "                                  next_time=next_time,\n",
    "                                  image_seq=image_seq)\n",
    "#     circle_state = generate.onset_env_circle_noise(image_repr=image_repr,\n",
    "#                                                    onset_env=onset_env_filtered3,\n",
    "#                                                    state=circle_state,\n",
    "#                                                    time=time,\n",
    "#                                                    next_time=next_time,\n",
    "#                                                    image_seq=image_seq)\n",
    "\n",
    "    generate.onset_env_noise(image_repr=model.image_repr,\n",
    "                             onset_env=onset_env,\n",
    "                             time=time,\n",
    "                             next_time=next_time,\n",
    "                             image_seq=image_seq,\n",
    "                             power=2,\n",
    "                             scale=5)\n",
    "    generate.beat_cross_noise(image_repr=model.image_repr,\n",
    "                              beats=beats,\n",
    "                              time=time,\n",
    "                              next_time=next_time,\n",
    "                              image_seq=image_seq)\n",
    "    generate.segment_reset_noise(image_repr=model.image_repr,\n",
    "                                 boundaries=boundaries,\n",
    "                                 time=time,\n",
    "                                 next_time=next_time,\n",
    "                                 image_seq=image_seq)\n",
    "    ...\n",
    "    \n",
    "def temperature(time, next_time):\n",
    "    return 1\n",
    "    #return generate.onset_env_temperature(onset_env_filtered2, time, next_time) ** 0.8\n",
    "\n",
    "keyframes = generate.keyframes(model=model,\n",
    "                               mel=mel,\n",
    "                               last_image_seq=last_image_seq,\n",
    "                               fps=30.0,\n",
    "                               noise=noise,\n",
    "                               temperature=temperature,\n",
    "                               device='cuda')\n",
    "\n",
    "frames = generate.interpolate(image_repr=image_repr,\n",
    "                              keyframes=keyframes,\n",
    "                              interframes=1,\n",
    "                              topk=True)\n",
    "\n",
    "for i, frame in enumerate(frames):\n",
    "    image = image_repr.tensor_to_image(frame)\n",
    "    if i % 1 == 0:\n",
    "        clear_output(wait=True)\n",
    "        display(image)\n",
    "        ...\n",
    "        image.save(os.path.join(frames_dir, f'{i}.png'))"
   ]
  },
  {
   "cell_type": "code",
   "execution_count": null,
   "id": "114ddb12",
   "metadata": {},
   "outputs": [],
   "source": [
    "from scipy.ndimage import gaussian_filter1d\n",
    "import matplotlib.pyplot as plt\n",
    "\n",
    "t1=1000\n",
    "t2=1300\n",
    "plt.rcParams['figure.figsize'] = (13,10)\n",
    "plt.plot(onset_env[t1:t2], 'k', alpha=0.3, label='original data')\n",
    "plt.plot(gaussian_filter1d(onset_env, 2)[t1:t2], '.', label='filtered, sigma=2')\n",
    "plt.plot(gaussian_filter1d(onset_env, 3)[t1:t2], '--', label='filtered, sigma=3')\n",
    "plt.plot(gaussian_filter1d(onset_env, 6)[t1:t2], ':', label='filtered, sigma=6')\n",
    "plt.legend()\n",
    "plt.grid()\n",
    "plt.show()"
   ]
  },
  {
   "cell_type": "code",
   "execution_count": null,
   "id": "a2da30b2",
   "metadata": {},
   "outputs": [],
   "source": [
    "plt.hist(onset_env, bins=100, alpha=0.6, label='original data')\n",
    "plt.hist(gaussian_filter1d(onset_env, 2), bins=100, alpha=0.6, label='filtered, sigma=2')\n",
    "plt.hist(gaussian_filter1d(onset_env, 3), bins=100, alpha=0.6, label='filtered, sigma=3')\n",
    "plt.hist(gaussian_filter1d(onset_env, 6), bins=100, alpha=0.6, label='filtered, sigma=6')\n",
    "plt.xlim(0,4)\n",
    "plt.legend()\n",
    "plt.grid()\n",
    "plt.show()"
   ]
  },
  {
   "cell_type": "code",
   "execution_count": null,
   "id": "e4ff7af3",
   "metadata": {},
   "outputs": [],
   "source": [
    "np.mean(gaussian_filter1d(onset_env, 2))"
   ]
  },
  {
   "cell_type": "code",
   "execution_count": null,
   "id": "326b434e",
   "metadata": {},
   "outputs": [],
   "source": []
  },
  {
   "cell_type": "code",
   "execution_count": null,
   "id": "d299a824",
   "metadata": {},
   "outputs": [],
   "source": [
    "def show_gif(fname):\n",
    "    import base64\n",
    "    from IPython import display\n",
    "    with open(fname, 'rb') as fd:\n",
    "        b64 = base64.b64encode(fd.read()).decode('ascii')\n",
    "    return display.HTML(f'<img src=\"data:image/gif;base64,{b64}\" />')\n",
    "\n",
    "show_gif(os.path.join(frames_dir, 'out.gif'))"
   ]
  },
  {
   "cell_type": "code",
   "execution_count": null,
   "id": "133d69c0",
   "metadata": {
    "scrolled": true
   },
   "outputs": [],
   "source": [
    "from IPython.display import Video\n",
    "Video(os.path.join(frames_dir, 'out.mp4'), embed=True)"
   ]
  }
 ],
 "metadata": {
  "kernelspec": {
   "display_name": "Python 3",
   "language": "python",
   "name": "python3"
  },
  "language_info": {
   "codemirror_mode": {
    "name": "ipython",
    "version": 3
   },
   "file_extension": ".py",
   "mimetype": "text/x-python",
   "name": "python",
   "nbconvert_exporter": "python",
   "pygments_lexer": "ipython3",
   "version": "3.9.2"
  }
 },
 "nbformat": 4,
 "nbformat_minor": 5
}
