{
 "cells": [
  {
   "cell_type": "code",
   "execution_count": null,
   "id": "0d7c5b62",
   "metadata": {},
   "outputs": [],
   "source": [
    "import sys\n",
    "import logging\n",
    "import os\n",
    "import math\n",
    "import json\n",
    "from tqdm import tqdm\n",
    "import warnings\n",
    "from IPython.display import display, Audio\n",
    "\n",
    "import librosa\n",
    "from librosa.feature import mfcc\n",
    "\n",
    "import numpy as np\n",
    "\n",
    "import torch\n",
    "import torch.nn.functional as F\n",
    "import torchvision.transforms as T\n",
    "\n",
    "from dalle_pytorch import OpenAIDiscreteVAE\n",
    "from dalle_pytorch.vae import unmap_pixels\n",
    "from einops import rearrange\n",
    "\n",
    "import scdata\n",
    "\n",
    "sys.path.append('..')\n",
    "logging.getLogger().setLevel(logging.INFO)\n",
    "warnings.filterwarnings('ignore')\n",
    "\n",
    "from aural_travels.data import soundcloud\n",
    "from aural_travels.model import AudioDALLENAT\n",
    "from aural_travels.train import visualizer\n",
    "\n",
    "MODEL_DIR = '/home/leo/src/aural-travels/models/nat_hidden512_uaf_expose12_alpha0.8'"
   ]
  },
  {
   "cell_type": "code",
   "execution_count": null,
   "id": "be2418b4",
   "metadata": {},
   "outputs": [],
   "source": [
    "with open(os.path.join(MODEL_DIR, 'params.json')) as f:\n",
    "    params = json.load(f)"
   ]
  },
  {
   "cell_type": "code",
   "execution_count": null,
   "id": "ca1a0758",
   "metadata": {},
   "outputs": [],
   "source": [
    "params"
   ]
  },
  {
   "cell_type": "code",
   "execution_count": null,
   "id": "6f70a5d9",
   "metadata": {},
   "outputs": [],
   "source": [
    "vae = OpenAIDiscreteVAE()\n",
    "vae.eval()\n",
    "\n",
    "split = 'training'\n",
    "#split = 'validation'\n",
    "\n",
    "dataset = visualizer.load_dataset(params,\n",
    "                                  split,\n",
    "                                  torch.load(f'../models/encoding/{split}.pt'))\n",
    "vae = visualizer.create_vae(params)\n",
    "model = visualizer.create_model(params, vae, dataset)\n",
    "model.eval().to('cuda')\n",
    "\n",
    "checkpoint = torch.load(os.path.join(MODEL_DIR, 'last_checkpoint.pt'))\n",
    "model.load_state_dict(checkpoint['model'])\n",
    "\n",
    "checkpoint['global_step']"
   ]
  },
  {
   "cell_type": "code",
   "execution_count": null,
   "id": "99e9a7e0",
   "metadata": {},
   "outputs": [],
   "source": [
    "corrupt_image_seq = torch.randint(vae.num_tokens, (1, 32**2), device='cuda')\n",
    "display(T.ToPILImage(mode='RGB')(vae.decode(corrupt_image_seq)[0]))"
   ]
  },
  {
   "cell_type": "code",
   "execution_count": null,
   "id": "8fece825",
   "metadata": {
    "scrolled": false
   },
   "outputs": [],
   "source": [
    "indices = list(range(10))\n",
    "\n",
    "audios = []\n",
    "image_seq_refs = []\n",
    "image_seq_corrupts = []\n",
    "for idx in tqdm(indices):\n",
    "    track = dataset.tracks[idx]\n",
    "    example = dataset[idx]\n",
    "    audios.append(example[0][None, :, :])\n",
    "    \n",
    "    image_seq_corrupts.append(visualizer.corrupt_image_seq(params['corrupt_image_mode'],\n",
    "                                                           model.vae.dec.vocab_size,\n",
    "                                                           example[1].clone()))\n",
    "    image_seq_refs.append(example[1])\n",
    "    \n",
    "    display(T.ToPILImage(mode='RGB')(model.vae.decode(example[1][None, :].to('cuda'))[0]))"
   ]
  },
  {
   "cell_type": "code",
   "execution_count": null,
   "id": "0c352101",
   "metadata": {
    "scrolled": false
   },
   "outputs": [],
   "source": [
    "top_k = 1\n",
    "temperature = 1\n",
    "save_to = os.path.join(MODEL_DIR, f'gen_step{checkpoint[\"global_step\"]}_temp{temperature}_topk{top_k}_train')\n",
    "os.makedirs(save_to, exist_ok=True)\n",
    "\n",
    "for idx, audio, corrupt, ref in zip(indices, audios, image_seq_corrupts, image_seq_refs):\n",
    "    track = dataset.tracks[idx]\n",
    "    print(f'{track[\"genre\"]}: {track[\"title\"]} ({track[\"id\"]})')\n",
    "\n",
    "    print('from_full')\n",
    "    corrupt_image_seq = torch.randint(vae.num_tokens,\n",
    "                                      (1, 32**2),\n",
    "                                      device='cuda')\n",
    "    image_seq = model.generate_image_seq(audio.to('cuda'),\n",
    "                                         top_k=0,\n",
    "                                         corrupt_image_seq=corrupt_image_seq.to('cuda'))\n",
    "    image = T.ToPILImage(mode='RGB')(model.vae.decode(image_seq)[0])\n",
    "    display(image)\n",
    "    \n",
    "    for i in range(1):\n",
    "        print('from_uniform')\n",
    "        image_seq = model.generate_image_seq(audio.to('cuda'),\n",
    "                                             top_k=0,\n",
    "                                             corrupt_image_seq=corrupt[None, ...].to('cuda'))\n",
    "        image = T.ToPILImage(mode='RGB')(model.vae.decode(image_seq)[0])\n",
    "        image.save(os.path.join(save_to, f'{idx}_{i}.png'))\n",
    "        display(image)\n",
    "    \n",
    "    print('uniform')\n",
    "    image = T.ToPILImage(mode='RGB')(model.vae.decode(corrupt.to('cuda')[None, ...])[0])\n",
    "    display(image)\n",
    "    \n",
    "    print('ref')\n",
    "    image = T.ToPILImage(mode='RGB')(model.vae.decode(ref.to('cuda')[None, ...])[0])\n",
    "    display(image)"
   ]
  },
  {
   "cell_type": "code",
   "execution_count": null,
   "id": "87d021dd",
   "metadata": {},
   "outputs": [],
   "source": [
    "track = dataset.tracks[3]\n",
    "audio_path = scdata.get_audio_path(os.path.join(dataset.data_dir, 'audio'), track['id'])\n",
    "Audio(audio_path)"
   ]
  },
  {
   "cell_type": "code",
   "execution_count": null,
   "id": "c56aff2a",
   "metadata": {
    "scrolled": false
   },
   "outputs": [],
   "source": [
    "from IPython.display import clear_output\n",
    "\n",
    "frames_dir = os.path.join(MODEL_DIR, 'frames') \n",
    "os.makedirs(frames_dir, exist_ok=True)\n",
    "\n",
    "frame_hop = 1\n",
    "\n",
    "# y, _ = librosa.load(audio_path,\n",
    "#                     sr=dataset.sample_rate,\n",
    "#                     mono=True)\n",
    "# mel = mfcc(y=y,\n",
    "#            sr=dataset.sample_rate,\n",
    "#            n_fft=dataset.n_fft,\n",
    "#            hop_length=dataset.hop_length,\n",
    "#            center=False)\n",
    "# mel = torch.tensor(mel, dtype=torch.float).T\n",
    "# mel = (mel - dataset.mfcc_mean) * dataset.mfcc_std_inv\n",
    "\n",
    "# print(dataset.sample_secs * dataset.sample_rate)\n",
    "# print(mel.shape)\n",
    "\n",
    "entry = dataset[4]\n",
    "#last_image_seq = entry[1].to('cuda')[None, ...]\n",
    "\n",
    "last_image_seq = torch.randint(vae.num_tokens,\n",
    "                               (1, 32**2),\n",
    "                               device='cuda')\n",
    "\n",
    "if last_image_seq is not None:\n",
    "    display(T.ToPILImage(mode='RGB')(model.vae.decode(last_image_seq)[0]))\n",
    "\n",
    "#for i in range(mel.size()[0] // frame_hop):    \n",
    "#     audio = mel[None, i*frame_hop:i*frame_hop+dataset.num_samples(), :]\n",
    "for i in range(12):\n",
    "    audio = audio.to('cuda')\n",
    "\n",
    "    audio = entry[0].to('cuda')[None, ...]\n",
    "    \n",
    "    temperature = 1 #max(1, 2*math.sin(i/10)**2)\n",
    "    image_seq = model.generate_image_seq(audio,\n",
    "                                         top_k=0,\n",
    "                                         temperature=temperature,\n",
    "                                         corrupt_image_seq=last_image_seq)\n",
    "    \n",
    "    print(i)\n",
    "    #print(temperature)\n",
    "    pil_image = T.ToPILImage(mode='RGB')(model.vae.decode(image_seq)[0])\n",
    "    #clear_output(wait=True)\n",
    "    display(pil_image)\n",
    "    pil_image.save(os.path.join(frames_dir, f'{i}.png'))\n",
    "    \n",
    "    last_image_seq = image_seq"
   ]
  },
  {
   "cell_type": "code",
   "execution_count": null,
   "id": "0e86b34d",
   "metadata": {},
   "outputs": [],
   "source": [
    "from IPython.display import Video\n",
    "Video(os.path.join(frames_dir, 'out.mp4'), embed=True)"
   ]
  },
  {
   "cell_type": "code",
   "execution_count": null,
   "id": "e4ccc759",
   "metadata": {},
   "outputs": [],
   "source": []
  }
 ],
 "metadata": {
  "kernelspec": {
   "display_name": "Python 3",
   "language": "python",
   "name": "python3"
  },
  "language_info": {
   "codemirror_mode": {
    "name": "ipython",
    "version": 3
   },
   "file_extension": ".py",
   "mimetype": "text/x-python",
   "name": "python",
   "nbconvert_exporter": "python",
   "pygments_lexer": "ipython3",
   "version": "3.9.2"
  }
 },
 "nbformat": 4,
 "nbformat_minor": 5
}
