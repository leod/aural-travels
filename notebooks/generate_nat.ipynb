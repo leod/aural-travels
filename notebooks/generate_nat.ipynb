{
 "cells": [
  {
   "cell_type": "code",
   "execution_count": null,
   "id": "0d7c5b62",
   "metadata": {
    "scrolled": true
   },
   "outputs": [],
   "source": [
    "import sys\n",
    "import logging\n",
    "import os\n",
    "import math\n",
    "import json\n",
    "from tqdm import tqdm\n",
    "import warnings\n",
    "from IPython.display import display, Audio\n",
    "\n",
    "import numpy as np\n",
    "import librosa\n",
    "\n",
    "import torch\n",
    "\n",
    "import scdata\n",
    "\n",
    "sys.path.append('..')\n",
    "logging.getLogger().setLevel(logging.INFO)\n",
    "warnings.filterwarnings('ignore')\n",
    "\n",
    "from aural_travels.data import soundcloud\n",
    "from aural_travels.train import visualizer\n",
    "\n",
    "MODEL_DIR = '/home/leo/src/aural-travels/models/bottleneck_gen_max_dist1_enc6_dec3_layer_scale_dropout0.2input_latents16_fairbatch'\n",
    "DATA_DIR = '/home/leo/src/scdata'\n",
    "\n",
    "device = 'cuda'"
   ]
  },
  {
   "cell_type": "code",
   "execution_count": null,
   "id": "be2418b4",
   "metadata": {
    "scrolled": false
   },
   "outputs": [],
   "source": [
    "with open(os.path.join(MODEL_DIR, 'params.json')) as f:\n",
    "    params = json.load(f)\n",
    "    \n",
    "params"
   ]
  },
  {
   "cell_type": "code",
   "execution_count": null,
   "id": "6f70a5d9",
   "metadata": {
    "scrolled": true
   },
   "outputs": [],
   "source": [
    "#split = 'training'\n",
    "split = 'validation'\n",
    "\n",
    "dataset = visualizer.load_dataset(params,\n",
    "                                  split,\n",
    "                                  torch.load(f'../models/encoding/{params[\"image_repr\"]}/{split}.pt'))\n",
    "image_repr = visualizer.create_image_repr(params)\n",
    "model = visualizer.create_model(params, image_repr, dataset)\n",
    "model.eval().to(device)\n",
    "\n",
    "checkpoint = torch.load(os.path.join(MODEL_DIR, 'last_checkpoint.pt'))\n",
    "model.load_state_dict(checkpoint['model'])\n",
    "\n",
    "checkpoint['global_step']"
   ]
  },
  {
   "cell_type": "code",
   "execution_count": null,
   "id": "99e9a7e0",
   "metadata": {
    "scrolled": true
   },
   "outputs": [],
   "source": [
    "def show(image_seq, save=None):\n",
    "    image = image_repr.tensor_to_image(image_repr.decode(image_seq)[0])\n",
    "    display(image)\n",
    "    if save:\n",
    "        image.save(save)\n",
    "    return image\n",
    "\n",
    "corrupt_image_seq = image_repr.rand_image_seq(1, device=device)\n",
    "show(corrupt_image_seq)\n",
    "\n",
    "corrupt_image_seq = image_repr.rand_image_seq(1, device=device, patch_size=4)\n",
    "show(corrupt_image_seq)\n",
    "\n",
    "corrupt_image_seq = image_repr.zeros_image_seq(1, device=device)\n",
    "show(corrupt_image_seq)\n",
    "\n",
    "print('')"
   ]
  },
  {
   "cell_type": "code",
   "execution_count": null,
   "id": "0c352101",
   "metadata": {
    "scrolled": true
   },
   "outputs": [],
   "source": [
    "indices = list(range(100, 200))\n",
    "\n",
    "for idx in indices:\n",
    "    track = dataset.tracks[idx]\n",
    "    print(f'{track[\"genre\"]}: {track[\"title\"]} ({track[\"id\"]})')\n",
    "    \n",
    "    audio1, ref_image_seq = dataset[idx]\n",
    "    \n",
    "    audio1 = audio1[None, ...].to(device)\n",
    "    #audio2 = audio2[None, ...].to(device)\n",
    "\n",
    "    ref_image_seq = ref_image_seq[None, ...].to(device)\n",
    "\n",
    "    print(idx, 'ref')\n",
    "    show(ref_image_seq)\n",
    "    \n",
    "    for i in range(1):\n",
    "        audio_emb = model.calc_audio_emb(audio1)\n",
    "        for i in [0,1]:\n",
    "            latent = torch.tensor(i, dtype=torch.long, device=device)\n",
    "            image_seq = model.generate_image_seq(audio_emb, latent=latent)\n",
    "            show(image_seq)\n",
    "        \n",
    "        #image_seq = model.generate_image_seq(model.calc_audio_emb(audio2))\n",
    "        #show(image_seq)"
   ]
  },
  {
   "cell_type": "code",
   "execution_count": null,
   "id": "96acd16c",
   "metadata": {
    "scrolled": false
   },
   "outputs": [],
   "source": [
    "from IPython.display import Audio\n",
    "\n",
    "track_idx = 126\n",
    "path = scdata.get_audio_path(os.path.join(DATA_DIR, 'audio'), dataset.tracks[track_idx]['id'])\n",
    "print(path)\n",
    "print(dataset.tracks[track_idx])\n",
    "Audio(path)"
   ]
  },
  {
   "cell_type": "code",
   "execution_count": null,
   "id": "3ea0dba4",
   "metadata": {
    "scrolled": true
   },
   "outputs": [],
   "source": [
    "mel = torch.tensor(dataset.load_features(track_idx), dtype=torch.float)\n",
    "mel = (mel - dataset.mfcc_mean) * dataset.mfcc_std_inv\n",
    "print(mel.shape)\n",
    "print(mel.shape[0] / 21)\n",
    "print(model.audio_seq_len)"
   ]
  },
  {
   "cell_type": "code",
   "execution_count": null,
   "id": "2436e815",
   "metadata": {
    "scrolled": true
   },
   "outputs": [],
   "source": [
    "from IPython.display import clear_output\n",
    "import time\n",
    "\n",
    "from aural_travels import generate\n",
    "\n",
    "frames_dir = os.path.join(MODEL_DIR, 'gen', 'frames') \n",
    "os.makedirs(frames_dir, exist_ok=True)\n",
    "\n",
    "keyframes = generate.keyframes(model, mel, fps=5.0, top_k=1, latent=0, device=device)\n",
    "frames = generate.interpolate(model, keyframes, interframes=12)\n",
    "\n",
    "start_time = time.time()\n",
    "\n",
    "for i, frame in enumerate(frames):\n",
    "    image = image_repr.tensor_to_image(frame)\n",
    "    if i % 1 == 0:\n",
    "        clear_output(wait=True)\n",
    "        print(i, i/60, (i/60)/(time.time()-start_time))\n",
    "        display(image)\n",
    "        image.save(os.path.join(frames_dir, f'{i}.png'))"
   ]
  },
  {
   "cell_type": "code",
   "execution_count": null,
   "id": "580a70dc",
   "metadata": {
    "scrolled": true
   },
   "outputs": [],
   "source": [
    "model"
   ]
  }
 ],
 "metadata": {
  "kernelspec": {
   "display_name": "Python 3",
   "language": "python",
   "name": "python3"
  },
  "language_info": {
   "codemirror_mode": {
    "name": "ipython",
    "version": 3
   },
   "file_extension": ".py",
   "mimetype": "text/x-python",
   "name": "python",
   "nbconvert_exporter": "python",
   "pygments_lexer": "ipython3",
   "version": "3.9.2"
  }
 },
 "nbformat": 4,
 "nbformat_minor": 5
}
